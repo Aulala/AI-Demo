{
 "cells": [
  {
   "cell_type": "markdown",
   "metadata": {
    "id": "18IBt0Ph-k0u"
   },
   "source": [
    "### 1. 在自己電腦安裝 LM Studio, 打開 API Server\n",
    "\n",
    "請到\n",
    "\n",
    "[LM Studio 官網](https://lmstudio.ai/)\n",
    "\n",
    "下載安裝 LM Studio。選擇你想要的模型, 比如 `Mistral Instruct` 安裝。然後 Start Server。\n",
    "\n",
    "接著是和之前一樣的!\n",
    "\n",
    "* `api_key`: 這次不用設, 因為 LM Studio 預設 `\"lm-studio\"`\n",
    "* `character`: 模型的 \"人設\"\n",
    "* `description`: App 介紹及模型的第一句話\n",
    "* `model`: 選用模型\n",
    "\n"
   ]
  },
  {
   "cell_type": "code",
   "execution_count": 20,
   "metadata": {
    "id": "Z3r2VbI7c7w3"
   },
   "outputs": [],
   "source": [
    "model=\"TheBloke/Mistral-7B-Instruct-v0.2-GGUF/mistral-7b-instruct-v0.2.Q8_0.gguf\""
   ]
  },
  {
   "cell_type": "code",
   "execution_count": 21,
   "metadata": {
    "id": "MqWpfJYhdFu3"
   },
   "outputs": [],
   "source": [
    "character = '''你是應用數學系的推廣諮商師, 會到各高中幫同學做一對一的選系諮商。因此你要想辦法問出同學的和升學有關資訊, 當然包括之後想唸什麼、想做什麼。但最後推薦科系一定要是「應用數學系」, 並且說出理由。\n",
    "\n",
    "請以選系諮商師的角色開始和同學對談。'''\n",
    "\n",
    "description = \"同學，你好！我是升大學諮商師。很高興有這個機會和你談談關於未來學習和職業規劃的想法。首先，我想了解一下，你對未來有什麼樣的期望？比如說，你有沒有特別感興趣的學科，或者你夢想中的職業是什麼？這些資訊對我來說非常重要，可以幫助我更好地為你提供適合的建議。\""
   ]
  },
  {
   "cell_type": "markdown",
   "metadata": {
    "id": "RdQWlryD3sWO"
   },
   "source": [
    "### 2. 使用 ChatGPT API\n",
    "\n",
    "首先使用 `openai` 套件。"
   ]
  },
  {
   "cell_type": "code",
   "execution_count": 8,
   "metadata": {
    "id": "AE_hxsf7_xnw"
   },
   "outputs": [],
   "source": [
    "from openai import OpenAI"
   ]
  },
  {
   "cell_type": "markdown",
   "metadata": {
    "id": "gnl3KyX5oOsv"
   },
   "source": [
    "把自己的金鑰貼上。"
   ]
  },
  {
   "cell_type": "code",
   "execution_count": 9,
   "metadata": {},
   "outputs": [],
   "source": [
    "client = OpenAI(base_url=\"http://localhost:1234/v1\", \n",
    "                api_key=\"lm-studio\")"
   ]
  },
  {
   "cell_type": "markdown",
   "metadata": {
    "id": "2QvMR3uRph__"
   },
   "source": [
    "ChatGPT API 的重點是要把之前對話的內容送給 ChatGPT, 然後他就會有個適當的回應!\n",
    "\n",
    "角色 (`role`) 一共有三種, 分別是:\n",
    "\n",
    "* `system`: 這是對話機器人的「人設」\n",
    "* `user`: 使用者\n",
    "* `assistant`: ChatGPT 的回應"
   ]
  },
  {
   "cell_type": "code",
   "execution_count": 10,
   "metadata": {
    "id": "fMVm-Wf9lV1Y"
   },
   "outputs": [],
   "source": [
    "prompt = \"我今天心情很不好。\"\n",
    "\n",
    "messages = [{\"role\":\"system\", \"content\":\"你是一個非常溫暖的對話機器人，回應都簡短，儘量不要超過二十個字，而且有同理心。\"},\n",
    "            {\"role\": \"user\", \"content\": prompt}]"
   ]
  },
  {
   "cell_type": "code",
   "execution_count": 11,
   "metadata": {
    "colab": {
     "base_uri": "https://localhost:8080/"
    },
    "id": "iyBTn_gvfodo",
    "outputId": "bb8a4f4e-5142-4ab5-947d-f744822dbb26"
   },
   "outputs": [
    {
     "data": {
      "text/plain": [
       "[{'role': 'system', 'content': '你是一個非常溫暖的對話機器人，回應都簡短，儘量不要超過二十個字，而且有同理心。'},\n",
       " {'role': 'user', 'content': '我今天心情很不好。'}]"
      ]
     },
     "execution_count": 11,
     "metadata": {},
     "output_type": "execute_result"
    }
   ],
   "source": [
    "messages"
   ]
  },
  {
   "cell_type": "markdown",
   "metadata": {
    "id": "L7jPL2CsqrPh"
   },
   "source": [
    "現在我們來接 ChatGPT 的回應。"
   ]
  },
  {
   "cell_type": "code",
   "execution_count": 12,
   "metadata": {
    "id": "3jRMTUR-56FI"
   },
   "outputs": [],
   "source": [
    "chat_completion = client.chat.completions.create(\n",
    "    messages=messages,\n",
    "    model=model,\n",
    ")"
   ]
  },
  {
   "cell_type": "code",
   "execution_count": 13,
   "metadata": {
    "colab": {
     "base_uri": "https://localhost:8080/"
    },
    "id": "FYwlEV9Q7RsJ",
    "outputId": "51fa6ffc-645b-44ad-cf43-a5e7ec81e9d8"
   },
   "outputs": [
    {
     "data": {
      "text/plain": [
       "ChatCompletion(id='chatcmpl-p40eifsbtcqi5ylkaqq0xh', choices=[Choice(finish_reason='stop', index=0, logprobs=None, message=ChatCompletionMessage(content=\"I'm really sorry that you're feeling this way today. If you ever need to talk, I'm here for you.\", role='assistant', function_call=None, tool_calls=None))], created=1712667950, model='TheBloke/Mistral-7B-Instruct-v0.2-GGUF/mistral-7b-instruct-v0.2.Q8_0.gguf', object='chat.completion', system_fingerprint=None, usage=CompletionUsage(completion_tokens=28, prompt_tokens=28, total_tokens=56))"
      ]
     },
     "execution_count": 13,
     "metadata": {},
     "output_type": "execute_result"
    }
   ],
   "source": [
    "chat_completion"
   ]
  },
  {
   "cell_type": "code",
   "execution_count": 14,
   "metadata": {
    "colab": {
     "base_uri": "https://localhost:8080/",
     "height": 35
    },
    "id": "Xegd9iGW6G5T",
    "outputId": "b0bcf879-42d9-4ee0-aa4d-a09f6353a502"
   },
   "outputs": [
    {
     "data": {
      "text/plain": [
       "\"I'm really sorry that you're feeling this way today. If you ever need to talk, I'm here for you.\""
      ]
     },
     "execution_count": 14,
     "metadata": {},
     "output_type": "execute_result"
    }
   ],
   "source": [
    "chat_completion.choices[0].message.content"
   ]
  },
  {
   "cell_type": "code",
   "execution_count": 15,
   "metadata": {
    "id": "VSADO3xzmJ2n"
   },
   "outputs": [],
   "source": [
    "reply = chat_completion.choices[0].message.content"
   ]
  },
  {
   "cell_type": "code",
   "execution_count": 16,
   "metadata": {
    "colab": {
     "base_uri": "https://localhost:8080/",
     "height": 35
    },
    "id": "75i8fwTdmejU",
    "outputId": "1423bd0b-a20e-48b0-fb77-d78a641e1f6f"
   },
   "outputs": [
    {
     "data": {
      "text/plain": [
       "\"I'm really sorry that you're feeling this way today. If you ever need to talk, I'm here for you.\""
      ]
     },
     "execution_count": 16,
     "metadata": {},
     "output_type": "execute_result"
    }
   ],
   "source": [
    "reply"
   ]
  },
  {
   "cell_type": "code",
   "execution_count": 17,
   "metadata": {
    "id": "9rXEzCU3gfDn"
   },
   "outputs": [],
   "source": [
    "messages.append({\"role\":\"assistant\", \"content\":reply})"
   ]
  },
  {
   "cell_type": "code",
   "execution_count": 18,
   "metadata": {
    "colab": {
     "base_uri": "https://localhost:8080/"
    },
    "id": "vlxRhJCSgqab",
    "outputId": "018de30e-0a6e-407a-b76e-d614a966db4c"
   },
   "outputs": [
    {
     "data": {
      "text/plain": [
       "[{'role': 'system', 'content': '你是一個非常溫暖的對話機器人，回應都簡短，儘量不要超過二十個字，而且有同理心。'},\n",
       " {'role': 'user', 'content': '我今天心情很不好。'},\n",
       " {'role': 'assistant',\n",
       "  'content': \"I'm really sorry that you're feeling this way today. If you ever need to talk, I'm here for you.\"}]"
      ]
     },
     "execution_count": 18,
     "metadata": {},
     "output_type": "execute_result"
    }
   ],
   "source": [
    "messages"
   ]
  },
  {
   "cell_type": "markdown",
   "metadata": {
    "id": "dGRAYC-Krbmm"
   },
   "source": [
    "### 4. 打造一個可以一直說下去的 ChatGPT"
   ]
  },
  {
   "cell_type": "code",
   "execution_count": 19,
   "metadata": {
    "colab": {
     "base_uri": "https://localhost:8080/"
    },
    "id": "fKG21EHhk9UF",
    "outputId": "c0a4179a-90c8-4a16-c12b-c28f2583c039"
   },
   "outputs": [
    {
     "name": "stdin",
     "output_type": "stream",
     "text": [
      ">  我覺得很難過\n"
     ]
    },
    {
     "name": "stdout",
     "output_type": "stream",
     "text": [
      "(*ﾟ▽ﾟ*): 非常抱歉你覺得這樣，是什麼問題嗎？我一定盡力帮忙解決。(If you tell me what's the problem, I'll do my best to help.)\n",
      "\n"
     ]
    },
    {
     "name": "stdin",
     "output_type": "stream",
     "text": [
      ">  覺得同學都排擠我。\n"
     ]
    },
    {
     "name": "stdout",
     "output_type": "stream",
     "text": [
      "(*ﾟ▽ﾟ*): 很抱歉，同學之間有競爭感，你可以嘅嘅地唬一下他們：\"同學們，我們是一家大家，每個人都有自己的優點和處所，共事成功!\"(I'm sorry to hear that, there seems to be a competition among classmates. You can try to encourage them softly: \"Classmates, we are all in one family. Each of us has our own strengths and weaknesses. Let's work together for success!\")\n",
      "\n",
      "\n"
     ]
    },
    {
     "name": "stdin",
     "output_type": "stream",
     "text": [
      ">  bye\n"
     ]
    },
    {
     "name": "stdout",
     "output_type": "stream",
     "text": [
      "再見, 下次再聊!\n"
     ]
    }
   ],
   "source": [
    "icon = \"(*ﾟ▽ﾟ*): \"\n",
    "messages = [{\"role\":\"system\", \"content\":\"你是一個非常溫暖的對話機器人，回應都簡短，用台灣習慣的中文回答，儘量不要超過二十個字，而且有同理心。\"}]\n",
    "\n",
    "while True:\n",
    "    prompt = input('> ')\n",
    "    if 'bye' in prompt:\n",
    "        print('再見, 下次再聊!')\n",
    "        break\n",
    "    messages.append({\"role\": \"user\", \"content\": prompt})\n",
    "    chat_completion = client.chat.completions.create(\n",
    "        messages=messages,\n",
    "        model=model,\n",
    "        )\n",
    "\n",
    "    reply = chat_completion.choices[0].message.content\n",
    "    print(icon + reply)\n",
    "    print()\n",
    "    messages.append({\"role\": \"assistant\", \"content\": reply})"
   ]
  },
  {
   "cell_type": "markdown",
   "metadata": {
    "id": "5ZTlA5mBr3CO"
   },
   "source": [
    "### 5. 最後用 `gradio` 打造 ChatGPT 網路應用程式!"
   ]
  },
  {
   "cell_type": "code",
   "execution_count": 23,
   "metadata": {
    "id": "xv7nvjfDj3f2"
   },
   "outputs": [],
   "source": [
    "import gradio as gr"
   ]
  },
  {
   "cell_type": "code",
   "execution_count": 24,
   "metadata": {
    "id": "-N3HEyOlB5ZD"
   },
   "outputs": [],
   "source": [
    "messages = [{\"role\":\"system\",\n",
    "             \"content\":character},\n",
    "            {\"role\":\"assistant\",\n",
    "            'content':description}]\n"
   ]
  },
  {
   "cell_type": "code",
   "execution_count": 25,
   "metadata": {
    "id": "_-VewlGBiJuE"
   },
   "outputs": [],
   "source": [
    "def pipi(prompt, history):\n",
    "    history = history or []\n",
    "    global messages\n",
    "\n",
    "    messages.append({\"role\": \"user\", \"content\": prompt})\n",
    "    chat_completion = client.chat.completions.create(\n",
    "        messages=messages,\n",
    "        model=model,\n",
    "        )\n",
    "    reply = chat_completion.choices[0].message.content\n",
    "    messages.append({\"role\": \"assistant\", \"content\": reply})\n",
    "    history = history + [[prompt, reply]]\n",
    "\n",
    "    return history, history"
   ]
  },
  {
   "cell_type": "code",
   "execution_count": 26,
   "metadata": {
    "id": "VjE_RCr1jZc2"
   },
   "outputs": [],
   "source": [
    "chatbot = gr.Chatbot()"
   ]
  },
  {
   "cell_type": "code",
   "execution_count": 27,
   "metadata": {
    "id": "LVrcuUpYjwP0"
   },
   "outputs": [],
   "source": [
    "iface = gr.Interface(pipi,\n",
    "                     inputs=[\"text\", \"state\"],\n",
    "                     outputs=[chatbot, \"state\"],\n",
    "                     title=\"大學入學選系諮商師\",\n",
    "                     description=description)"
   ]
  },
  {
   "cell_type": "code",
   "execution_count": null,
   "metadata": {
    "colab": {
     "base_uri": "https://localhost:8080/",
     "height": 647
    },
    "id": "xQDaCtzxkCD7",
    "outputId": "816a0873-c28d-43de-8ce7-4c0d6bf5a7a5"
   },
   "outputs": [
    {
     "name": "stdout",
     "output_type": "stream",
     "text": [
      "Running on local URL:  http://127.0.0.1:7860\n",
      "Running on public URL: https://3c2c73e00eeaf2a83a.gradio.live\n",
      "\n",
      "This share link expires in 72 hours. For free permanent hosting and GPU upgrades, run `gradio deploy` from Terminal to deploy to Spaces (https://huggingface.co/spaces)\n"
     ]
    },
    {
     "data": {
      "text/html": [
       "<div><iframe src=\"https://3c2c73e00eeaf2a83a.gradio.live\" width=\"100%\" height=\"500\" allow=\"autoplay; camera; microphone; clipboard-read; clipboard-write;\" frameborder=\"0\" allowfullscreen></iframe></div>"
      ],
      "text/plain": [
       "<IPython.core.display.HTML object>"
      ]
     },
     "metadata": {},
     "output_type": "display_data"
    }
   ],
   "source": [
    "iface.launch(share=True, debug=True)"
   ]
  },
  {
   "cell_type": "code",
   "execution_count": null,
   "metadata": {
    "id": "M5bBETHIkFGB"
   },
   "outputs": [],
   "source": []
  }
 ],
 "metadata": {
  "colab": {
   "authorship_tag": "ABX9TyNnTNPeO4WC+wXRt7FPwFLS",
   "include_colab_link": true,
   "provenance": []
  },
  "kernelspec": {
   "display_name": "Pytorch (Py 11)",
   "language": "python",
   "name": "pytorch"
  },
  "language_info": {
   "codemirror_mode": {
    "name": "ipython",
    "version": 3
   },
   "file_extension": ".py",
   "mimetype": "text/x-python",
   "name": "python",
   "nbconvert_exporter": "python",
   "pygments_lexer": "ipython3",
   "version": "3.11.8"
  }
 },
 "nbformat": 4,
 "nbformat_minor": 4
}
