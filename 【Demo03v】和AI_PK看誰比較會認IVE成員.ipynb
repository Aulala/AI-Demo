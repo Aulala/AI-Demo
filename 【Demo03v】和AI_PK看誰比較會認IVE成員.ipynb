{
  "nbformat": 4,
  "nbformat_minor": 0,
  "metadata": {
    "colab": {
      "provenance": [],
      "gpuType": "T4",
      "authorship_tag": "ABX9TyODmU2abFUFj+wX6wYU7mBk",
      "include_colab_link": true
    },
    "kernelspec": {
      "name": "python3",
      "display_name": "Python 3"
    },
    "language_info": {
      "name": "python"
    },
    "accelerator": "GPU"
  },
  "cells": [
    {
      "cell_type": "markdown",
      "metadata": {
        "id": "view-in-github",
        "colab_type": "text"
      },
      "source": [
        "<a href=\"https://colab.research.google.com/github/yenlung/AI-Demo/blob/master/%E3%80%90Demo03v%E3%80%91%E5%92%8CAI_PK%E7%9C%8B%E8%AA%B0%E6%AF%94%E8%BC%83%E6%9C%83%E8%AA%8DIVE%E6%88%90%E5%93%A1.ipynb\" target=\"_parent\"><img src=\"https://colab.research.google.com/assets/colab-badge.svg\" alt=\"Open In Colab\"/></a>"
      ]
    },
    {
      "cell_type": "markdown",
      "source": [
        "### 1. 設定 IVE 成員資料\n",
        "\n",
        "可在這裡修改成你要辨識的成員名單。分成英文和中文的原因, 是因為在 Colab 部份版本中文資料夾會出問題。為確保可以執行, 會用英文當資料夾名稱, 中文是顯示名稱。"
      ],
      "metadata": {
        "id": "f98Lkotw0CQ2"
      }
    },
    {
      "cell_type": "code",
      "execution_count": 1,
      "metadata": {
        "colab": {
          "base_uri": "https://localhost:8080/"
        },
        "id": "mBKmjpWgSU2Q",
        "outputId": "de6db096-8c1e-4c01-8b51-10d12a49966e"
      },
      "outputs": [
        {
          "output_type": "stream",
          "name": "stdout",
          "text": [
            "🎉 IVE 成員設定完成！\n",
            "==================================================\n",
            "📁 資料夾名稱: yujin → 顯示名稱: 兪真유진\n",
            "📁 資料夾名稱: wonyoung → 顯示名稱: 員瑛원영\n",
            "📁 資料夾名稱: gaeul → 顯示名稱: 秋天가을\n",
            "📁 資料夾名稱: rei → 顯示名稱: Rei레이\n",
            "📁 資料夾名稱: liz → 顯示名稱: Liz리즈\n",
            "📁 資料夾名稱: leeseo → 顯示名稱: 李瑞이서\n",
            "==================================================\n"
          ]
        }
      ],
      "source": [
        "# 🎤 IVE 成員人臉辨識教學程式\n",
        "\n",
        "# 成員英文名 (用於資料夾名稱)\n",
        "members_en = \"yujin,wonyoung,gaeul,rei,liz,leeseo\"\n",
        "\n",
        "# 成員中文名 (用於顯示)\n",
        "members_zh = \"兪真유진,員瑛원영,秋天가을,Rei레이,Liz리즈,李瑞이서\"\n",
        "\n",
        "# 將字串轉換為列表，方便後續使用\n",
        "members_en_list = members_en.split(',')\n",
        "members_zh_list = members_zh.split(',')\n",
        "\n",
        "# 建立成員對應字典\n",
        "member_dict = dict(zip(members_en_list, members_zh_list))\n",
        "\n",
        "print(\"🎉 IVE 成員設定完成！\")\n",
        "print(\"=\"*50)\n",
        "for en_name, zh_name in member_dict.items():\n",
        "    print(f\"📁 資料夾名稱: {en_name} → 顯示名稱: {zh_name}\")\n",
        "print(\"=\"*50)"
      ]
    },
    {
      "cell_type": "markdown",
      "source": [
        "### 2. 建立資料夾結構"
      ],
      "metadata": {
        "id": "8g_TLOjf0VTS"
      }
    },
    {
      "cell_type": "code",
      "source": [
        "import os\n",
        "\n",
        "# 建立主要資料夾\n",
        "main_folders = ['photos', 'test_photos']\n",
        "\n",
        "for main_folder in main_folders:\n",
        "    # 建立主資料夾\n",
        "    if not os.path.exists(main_folder):\n",
        "        os.makedirs(main_folder)\n",
        "        print(f\"📁 建立資料夾: {main_folder}\")\n",
        "\n",
        "    # 為每位成員建立子資料夾\n",
        "    for member_en in members_en_list:\n",
        "        member_folder = os.path.join(main_folder, member_en)\n",
        "        if not os.path.exists(member_folder):\n",
        "            os.makedirs(member_folder)\n",
        "            print(f\"  └── 📁 建立子資料夾: {member_folder}\")\n",
        "\n",
        "print(\"\\n✅ 資料夾結構建立完成！\")\n",
        "print(\"📝 請依照以下步驟準備照片：\")\n",
        "print(\"1. 在 photos 資料夾中，每位成員的子資料夾放入 3-5 張訓練照片\")\n",
        "print(\"2. 在 test_photos 資料夾中，每位成員的子資料夾放入 1-2 張測試照片, 這會變成 PK 「試題」\")\n",
        "print(\"3. 照片建議使用清晰的人臉照片，避免多人合照\")\n",
        "\n",
        "# 顯示資料夾結構\n",
        "print(\"\\n📂 資料夾結構預覽：\")\n",
        "for main_folder in main_folders:\n",
        "    print(f\"{main_folder}/\")\n",
        "    for member_en in members_en_list:\n",
        "        member_zh = member_dict[member_en]\n",
        "        print(f\"  ├── {member_en}/ ({member_zh})\")\n",
        "    print()"
      ],
      "metadata": {
        "colab": {
          "base_uri": "https://localhost:8080/"
        },
        "id": "SWL2c9QzSeXc",
        "outputId": "b052248f-bec4-4569-e869-2baeb4bea1b7"
      },
      "execution_count": 2,
      "outputs": [
        {
          "output_type": "stream",
          "name": "stdout",
          "text": [
            "📁 建立資料夾: photos\n",
            "  └── 📁 建立子資料夾: photos/yujin\n",
            "  └── 📁 建立子資料夾: photos/wonyoung\n",
            "  └── 📁 建立子資料夾: photos/gaeul\n",
            "  └── 📁 建立子資料夾: photos/rei\n",
            "  └── 📁 建立子資料夾: photos/liz\n",
            "  └── 📁 建立子資料夾: photos/leeseo\n",
            "📁 建立資料夾: test_photos\n",
            "  └── 📁 建立子資料夾: test_photos/yujin\n",
            "  └── 📁 建立子資料夾: test_photos/wonyoung\n",
            "  └── 📁 建立子資料夾: test_photos/gaeul\n",
            "  └── 📁 建立子資料夾: test_photos/rei\n",
            "  └── 📁 建立子資料夾: test_photos/liz\n",
            "  └── 📁 建立子資料夾: test_photos/leeseo\n",
            "\n",
            "✅ 資料夾結構建立完成！\n",
            "📝 請依照以下步驟準備照片：\n",
            "1. 在 photos 資料夾中，每位成員的子資料夾放入 3-5 張訓練照片\n",
            "2. 在 test_photos 資料夾中，每位成員的子資料夾放入 1-2 張測試照片, 這會變成 PK 「試題」\n",
            "3. 照片建議使用清晰的人臉照片，避免多人合照\n",
            "\n",
            "📂 資料夾結構預覽：\n",
            "photos/\n",
            "  ├── yujin/ (兪真유진)\n",
            "  ├── wonyoung/ (員瑛원영)\n",
            "  ├── gaeul/ (秋天가을)\n",
            "  ├── rei/ (Rei레이)\n",
            "  ├── liz/ (Liz리즈)\n",
            "  ├── leeseo/ (李瑞이서)\n",
            "\n",
            "test_photos/\n",
            "  ├── yujin/ (兪真유진)\n",
            "  ├── wonyoung/ (員瑛원영)\n",
            "  ├── gaeul/ (秋天가을)\n",
            "  ├── rei/ (Rei레이)\n",
            "  ├── liz/ (Liz리즈)\n",
            "  ├── leeseo/ (李瑞이서)\n",
            "\n"
          ]
        }
      ]
    },
    {
      "cell_type": "markdown",
      "source": [
        "**請找照片放入相對應的資料夾中！**"
      ],
      "metadata": {
        "id": "0vPDnnF60eM0"
      }
    },
    {
      "cell_type": "markdown",
      "source": [
        "### 3. 如有自己準備好的 zip 檔, 請讀入並解壓縮"
      ],
      "metadata": {
        "id": "txRPm8D7UhIQ"
      }
    },
    {
      "cell_type": "code",
      "source": [
        "gdrive_link = \"https://drive.google.com/file/d/1e0nnweTNQTWgGGaYdgq_nGtYGv6KAxKv/view?usp=sharing\""
      ],
      "metadata": {
        "id": "PqXgvxWNThKs"
      },
      "execution_count": 10,
      "outputs": []
    },
    {
      "cell_type": "code",
      "metadata": {
        "colab": {
          "base_uri": "https://localhost:8080/"
        },
        "id": "cdd0dcbd",
        "outputId": "1dccb7ad-e389-4a2c-c7f4-455544c631d3"
      },
      "source": [
        "# 下載 Google Drive 中的 photos.zip 檔案\n",
        "# 請確保 gdrive_link 是正確指向分享的檔案\n",
        "import gdown\n",
        "\n",
        "output = 'photos.zip'\n",
        "gdown.download(gdrive_link, output, quiet=False)\n",
        "\n",
        "if os.path.exists(output):\n",
        "    print(f\"✅ 檔案 {output} 下載成功！\")\n",
        "else:\n",
        "    print(f\"❌ 檔案 {output} 下載失敗。請檢查 Google Drive 連結是否正確或檔案權限。\")"
      ],
      "execution_count": 11,
      "outputs": [
        {
          "output_type": "stream",
          "name": "stderr",
          "text": [
            "/usr/local/lib/python3.11/dist-packages/gdown/parse_url.py:48: UserWarning: You specified a Google Drive link that is not the correct link to download a file. You might want to try `--fuzzy` option or the following url: https://drive.google.com/uc?id=1e0nnweTNQTWgGGaYdgq_nGtYGv6KAxKv\n",
            "  warnings.warn(\n",
            "Downloading...\n",
            "From: https://drive.google.com/file/d/1e0nnweTNQTWgGGaYdgq_nGtYGv6KAxKv/view?usp=sharing\n",
            "To: /content/photos.zip\n",
            "101kB [00:00, 2.14MB/s]"
          ]
        },
        {
          "output_type": "stream",
          "name": "stdout",
          "text": [
            "✅ 檔案 photos.zip 下載成功！\n"
          ]
        },
        {
          "output_type": "stream",
          "name": "stderr",
          "text": [
            "\n"
          ]
        }
      ]
    },
    {
      "cell_type": "code",
      "source": [
        "!unzip photos.zip"
      ],
      "metadata": {
        "id": "TbbmEFFbSv6e",
        "colab": {
          "base_uri": "https://localhost:8080/"
        },
        "outputId": "aa9ea6af-9333-4282-c576-7a578ed970da"
      },
      "execution_count": 3,
      "outputs": [
        {
          "output_type": "stream",
          "name": "stdout",
          "text": [
            "Archive:  photos.zip\n",
            "  inflating: photos/wonyoung/wonyoung01.jpg  \n",
            "  inflating: photos/wonyoung/wonyoung14.jpg  \n",
            "  inflating: photos/wonyoung/wonyoung13.jpg  \n",
            "  inflating: photos/wonyoung/wonyoung07.jpg  \n",
            "  inflating: photos/wonyoung/wonyoung04.jpg  \n",
            "  inflating: photos/wonyoung/wonyoung11.jpg  \n",
            "   creating: photos/wonyoung/.ipynb_checkpoints/\n",
            "  inflating: photos/wonyoung/wonyoung08.jpg  \n",
            "  inflating: photos/wonyoung/wonyoung09.jpg  \n",
            "  inflating: photos/rei/rei09.jpg    \n",
            "  inflating: photos/rei/rei08.jpg    \n",
            "   creating: photos/rei/.ipynb_checkpoints/\n",
            "  inflating: photos/rei/rei03.jpg    \n",
            "  inflating: photos/rei/rei02.jpg    \n",
            "  inflating: photos/rei/rei11.jpg    \n",
            "  inflating: photos/rei/rei04.jpg    \n",
            "  inflating: photos/rei/rei10.jpg    \n",
            "  inflating: photos/rei/rei12.jpg    \n",
            "  inflating: photos/rei/rei13.jpg    \n",
            "  inflating: photos/liz/liz05.jpg    \n",
            "  inflating: photos/liz/liz04.jpg    \n",
            "  inflating: photos/liz/liz01.jpg    \n",
            "  inflating: photos/liz/liz03.jpg    \n",
            "  inflating: photos/liz/liz02.jpg    \n",
            "   creating: photos/liz/.ipynb_checkpoints/\n",
            "  inflating: photos/gaeul/gaeul08.jpg  \n",
            "  inflating: photos/gaeul/gaeul07.jpg  \n",
            "  inflating: photos/gaeul/gaeul05.jpg  \n",
            "  inflating: photos/gaeul/gaeul04.jpg  \n",
            "  inflating: photos/gaeul/gaeul01.png  \n",
            "  inflating: photos/gaeul/gaeul01.jpg  \n",
            "  inflating: photos/gaeul/gaeul03.jpg  \n",
            "  inflating: photos/gaeul/gaeul02.jpg  \n",
            "  inflating: photos/yujin/yujin04.jpg  \n",
            "  inflating: photos/yujin/yujin06.jpg  \n",
            "  inflating: photos/yujin/yujin03.jpg  \n",
            "  inflating: photos/yujin/yujin01.jpg  \n",
            "   creating: photos/yujin/.ipynb_checkpoints/\n",
            "  inflating: photos/yujin/yujin08.jpg  \n",
            "  inflating: photos/yujin/yujin09.jpg  \n",
            "  inflating: photos/leeseo/leeseo08.jpg  \n",
            "  inflating: photos/leeseo/leeseo09.jpg  \n",
            "  inflating: photos/leeseo/leeseo10.jpg  \n",
            "  inflating: photos/leeseo/leeseo04.jpg  \n",
            "  inflating: photos/leeseo/leeseo07.jpg  \n",
            "  inflating: photos/leeseo/leeseo06.jpg  \n",
            "  inflating: photos/leeseo/leeseo02.jpg  \n",
            "  inflating: photos/leeseo/leeseo03.jpg  \n",
            "  inflating: photos/leeseo/leeseo01.jpg  \n",
            "   creating: photos/leeseo/.ipynb_checkpoints/\n",
            "  inflating: test_photos/wonyoung/test01.jpg  \n",
            "  inflating: test_photos/rei/test06.jpg  \n",
            "  inflating: test_photos/liz/test05.jpg  \n",
            "  inflating: test_photos/gaeul/test03.jpg  \n",
            "  inflating: test_photos/yujin/test04.jpg  \n",
            "  inflating: test_photos/leeseo/test02.jpg  \n"
          ]
        }
      ]
    },
    {
      "cell_type": "markdown",
      "source": [
        "### 4. 安裝與導入必要套件"
      ],
      "metadata": {
        "id": "XoL66jgT0pkq"
      }
    },
    {
      "cell_type": "code",
      "source": [
        "# 安裝所需套件\n",
        "!pip install insightface onnxruntime\n",
        "!pip install gradio\n",
        "!pip install opencv-python\n",
        "!pip install matplotlib\n",
        "\n",
        "print(\"📦 套件安裝完成！\")\n",
        "\n",
        "# 導入必要的函式庫\n",
        "import cv2\n",
        "import numpy as np\n",
        "import matplotlib.pyplot as plt\n",
        "from matplotlib import font_manager\n",
        "import os\n",
        "import glob\n",
        "import random\n",
        "from PIL import Image\n",
        "import insightface\n",
        "from insightface.app import FaceAnalysis\n",
        "\n",
        "print(\"📚 套件導入完成！\")\n",
        "\n",
        "# 設定中文字體顯示 (for matplotlib)\n",
        "plt.rcParams['font.sans-serif'] = ['DejaVu Sans', 'SimHei', 'Arial Unicode MS']\n",
        "plt.rcParams['axes.unicode_minus'] = False\n",
        "\n",
        "print(\"✅ 環境設定完成！準備開始人臉辨識...\")"
      ],
      "metadata": {
        "colab": {
          "base_uri": "https://localhost:8080/"
        },
        "id": "c0tKk8fwSjiq",
        "outputId": "f77bb85b-2fed-44e4-d65c-8390d6b5de05"
      },
      "execution_count": 4,
      "outputs": [
        {
          "output_type": "stream",
          "name": "stdout",
          "text": [
            "Collecting insightface\n",
            "  Downloading insightface-0.7.3.tar.gz (439 kB)\n",
            "\u001b[?25l     \u001b[90m━━━━━━━━━━━━━━━━━━━━━━━━━━━━━━━━━━━━━━━━\u001b[0m \u001b[32m0.0/439.5 kB\u001b[0m \u001b[31m?\u001b[0m eta \u001b[36m-:--:--\u001b[0m\r\u001b[2K     \u001b[90m━━━━━━━━━━━━━━━━━━━━━━━━━━━━━━━━━━━━━━\u001b[0m \u001b[32m439.5/439.5 kB\u001b[0m \u001b[31m26.2 MB/s\u001b[0m eta \u001b[36m0:00:00\u001b[0m\n",
            "\u001b[?25h  Installing build dependencies ... \u001b[?25l\u001b[?25hdone\n",
            "  Getting requirements to build wheel ... \u001b[?25l\u001b[?25hdone\n",
            "  Preparing metadata (pyproject.toml) ... \u001b[?25l\u001b[?25hdone\n",
            "Collecting onnxruntime\n",
            "  Downloading onnxruntime-1.22.1-cp311-cp311-manylinux_2_27_x86_64.manylinux_2_28_x86_64.whl.metadata (4.6 kB)\n",
            "Requirement already satisfied: numpy in /usr/local/lib/python3.11/dist-packages (from insightface) (2.0.2)\n",
            "Collecting onnx (from insightface)\n",
            "  Downloading onnx-1.18.0-cp311-cp311-manylinux_2_17_x86_64.manylinux2014_x86_64.whl.metadata (6.9 kB)\n",
            "Requirement already satisfied: tqdm in /usr/local/lib/python3.11/dist-packages (from insightface) (4.67.1)\n",
            "Requirement already satisfied: requests in /usr/local/lib/python3.11/dist-packages (from insightface) (2.32.3)\n",
            "Requirement already satisfied: matplotlib in /usr/local/lib/python3.11/dist-packages (from insightface) (3.10.0)\n",
            "Requirement already satisfied: Pillow in /usr/local/lib/python3.11/dist-packages (from insightface) (11.2.1)\n",
            "Requirement already satisfied: scipy in /usr/local/lib/python3.11/dist-packages (from insightface) (1.15.3)\n",
            "Requirement already satisfied: scikit-learn in /usr/local/lib/python3.11/dist-packages (from insightface) (1.6.1)\n",
            "Requirement already satisfied: scikit-image in /usr/local/lib/python3.11/dist-packages (from insightface) (0.25.2)\n",
            "Requirement already satisfied: easydict in /usr/local/lib/python3.11/dist-packages (from insightface) (1.13)\n",
            "Requirement already satisfied: cython in /usr/local/lib/python3.11/dist-packages (from insightface) (3.0.12)\n",
            "Requirement already satisfied: albumentations in /usr/local/lib/python3.11/dist-packages (from insightface) (2.0.8)\n",
            "Requirement already satisfied: prettytable in /usr/local/lib/python3.11/dist-packages (from insightface) (3.16.0)\n",
            "Collecting coloredlogs (from onnxruntime)\n",
            "  Downloading coloredlogs-15.0.1-py2.py3-none-any.whl.metadata (12 kB)\n",
            "Requirement already satisfied: flatbuffers in /usr/local/lib/python3.11/dist-packages (from onnxruntime) (25.2.10)\n",
            "Requirement already satisfied: packaging in /usr/local/lib/python3.11/dist-packages (from onnxruntime) (25.0)\n",
            "Requirement already satisfied: protobuf in /usr/local/lib/python3.11/dist-packages (from onnxruntime) (5.29.5)\n",
            "Requirement already satisfied: sympy in /usr/local/lib/python3.11/dist-packages (from onnxruntime) (1.13.1)\n",
            "Requirement already satisfied: PyYAML in /usr/local/lib/python3.11/dist-packages (from albumentations->insightface) (6.0.2)\n",
            "Requirement already satisfied: pydantic>=2.9.2 in /usr/local/lib/python3.11/dist-packages (from albumentations->insightface) (2.11.7)\n",
            "Requirement already satisfied: albucore==0.0.24 in /usr/local/lib/python3.11/dist-packages (from albumentations->insightface) (0.0.24)\n",
            "Requirement already satisfied: opencv-python-headless>=4.9.0.80 in /usr/local/lib/python3.11/dist-packages (from albumentations->insightface) (4.12.0.88)\n",
            "Requirement already satisfied: stringzilla>=3.10.4 in /usr/local/lib/python3.11/dist-packages (from albucore==0.0.24->albumentations->insightface) (3.12.5)\n",
            "Requirement already satisfied: simsimd>=5.9.2 in /usr/local/lib/python3.11/dist-packages (from albucore==0.0.24->albumentations->insightface) (6.5.0)\n",
            "Collecting humanfriendly>=9.1 (from coloredlogs->onnxruntime)\n",
            "  Downloading humanfriendly-10.0-py2.py3-none-any.whl.metadata (9.2 kB)\n",
            "Requirement already satisfied: contourpy>=1.0.1 in /usr/local/lib/python3.11/dist-packages (from matplotlib->insightface) (1.3.2)\n",
            "Requirement already satisfied: cycler>=0.10 in /usr/local/lib/python3.11/dist-packages (from matplotlib->insightface) (0.12.1)\n",
            "Requirement already satisfied: fonttools>=4.22.0 in /usr/local/lib/python3.11/dist-packages (from matplotlib->insightface) (4.58.5)\n",
            "Requirement already satisfied: kiwisolver>=1.3.1 in /usr/local/lib/python3.11/dist-packages (from matplotlib->insightface) (1.4.8)\n",
            "Requirement already satisfied: pyparsing>=2.3.1 in /usr/local/lib/python3.11/dist-packages (from matplotlib->insightface) (3.2.3)\n",
            "Requirement already satisfied: python-dateutil>=2.7 in /usr/local/lib/python3.11/dist-packages (from matplotlib->insightface) (2.9.0.post0)\n",
            "Requirement already satisfied: typing_extensions>=4.7.1 in /usr/local/lib/python3.11/dist-packages (from onnx->insightface) (4.14.1)\n",
            "Requirement already satisfied: wcwidth in /usr/local/lib/python3.11/dist-packages (from prettytable->insightface) (0.2.13)\n",
            "Requirement already satisfied: charset-normalizer<4,>=2 in /usr/local/lib/python3.11/dist-packages (from requests->insightface) (3.4.2)\n",
            "Requirement already satisfied: idna<4,>=2.5 in /usr/local/lib/python3.11/dist-packages (from requests->insightface) (3.10)\n",
            "Requirement already satisfied: urllib3<3,>=1.21.1 in /usr/local/lib/python3.11/dist-packages (from requests->insightface) (2.4.0)\n",
            "Requirement already satisfied: certifi>=2017.4.17 in /usr/local/lib/python3.11/dist-packages (from requests->insightface) (2025.7.14)\n",
            "Requirement already satisfied: networkx>=3.0 in /usr/local/lib/python3.11/dist-packages (from scikit-image->insightface) (3.5)\n",
            "Requirement already satisfied: imageio!=2.35.0,>=2.33 in /usr/local/lib/python3.11/dist-packages (from scikit-image->insightface) (2.37.0)\n",
            "Requirement already satisfied: tifffile>=2022.8.12 in /usr/local/lib/python3.11/dist-packages (from scikit-image->insightface) (2025.6.11)\n",
            "Requirement already satisfied: lazy-loader>=0.4 in /usr/local/lib/python3.11/dist-packages (from scikit-image->insightface) (0.4)\n",
            "Requirement already satisfied: joblib>=1.2.0 in /usr/local/lib/python3.11/dist-packages (from scikit-learn->insightface) (1.5.1)\n",
            "Requirement already satisfied: threadpoolctl>=3.1.0 in /usr/local/lib/python3.11/dist-packages (from scikit-learn->insightface) (3.6.0)\n",
            "Requirement already satisfied: mpmath<1.4,>=1.1.0 in /usr/local/lib/python3.11/dist-packages (from sympy->onnxruntime) (1.3.0)\n",
            "Requirement already satisfied: annotated-types>=0.6.0 in /usr/local/lib/python3.11/dist-packages (from pydantic>=2.9.2->albumentations->insightface) (0.7.0)\n",
            "Requirement already satisfied: pydantic-core==2.33.2 in /usr/local/lib/python3.11/dist-packages (from pydantic>=2.9.2->albumentations->insightface) (2.33.2)\n",
            "Requirement already satisfied: typing-inspection>=0.4.0 in /usr/local/lib/python3.11/dist-packages (from pydantic>=2.9.2->albumentations->insightface) (0.4.1)\n",
            "Requirement already satisfied: six>=1.5 in /usr/local/lib/python3.11/dist-packages (from python-dateutil>=2.7->matplotlib->insightface) (1.17.0)\n",
            "Downloading onnxruntime-1.22.1-cp311-cp311-manylinux_2_27_x86_64.manylinux_2_28_x86_64.whl (16.5 MB)\n",
            "\u001b[2K   \u001b[90m━━━━━━━━━━━━━━━━━━━━━━━━━━━━━━━━━━━━━━━━\u001b[0m \u001b[32m16.5/16.5 MB\u001b[0m \u001b[31m108.0 MB/s\u001b[0m eta \u001b[36m0:00:00\u001b[0m\n",
            "\u001b[?25hDownloading coloredlogs-15.0.1-py2.py3-none-any.whl (46 kB)\n",
            "\u001b[2K   \u001b[90m━━━━━━━━━━━━━━━━━━━━━━━━━━━━━━━━━━━━━━━━\u001b[0m \u001b[32m46.0/46.0 kB\u001b[0m \u001b[31m4.6 MB/s\u001b[0m eta \u001b[36m0:00:00\u001b[0m\n",
            "\u001b[?25hDownloading onnx-1.18.0-cp311-cp311-manylinux_2_17_x86_64.manylinux2014_x86_64.whl (17.6 MB)\n",
            "\u001b[2K   \u001b[90m━━━━━━━━━━━━━━━━━━━━━━━━━━━━━━━━━━━━━━━━\u001b[0m \u001b[32m17.6/17.6 MB\u001b[0m \u001b[31m116.1 MB/s\u001b[0m eta \u001b[36m0:00:00\u001b[0m\n",
            "\u001b[?25hDownloading humanfriendly-10.0-py2.py3-none-any.whl (86 kB)\n",
            "\u001b[2K   \u001b[90m━━━━━━━━━━━━━━━━━━━━━━━━━━━━━━━━━━━━━━━━\u001b[0m \u001b[32m86.8/86.8 kB\u001b[0m \u001b[31m8.5 MB/s\u001b[0m eta \u001b[36m0:00:00\u001b[0m\n",
            "\u001b[?25hBuilding wheels for collected packages: insightface\n",
            "  Building wheel for insightface (pyproject.toml) ... \u001b[?25l\u001b[?25hdone\n",
            "  Created wheel for insightface: filename=insightface-0.7.3-cp311-cp311-linux_x86_64.whl size=1060442 sha256=c63b8cbef082816912ff97a4867bfb1c2b1d77f6fb8ef75b0fb03786bc77b8f6\n",
            "  Stored in directory: /root/.cache/pip/wheels/27/d8/22/f52d858d16cd06e7b2e6aad34a1777dcfaf000be833bbf8146\n",
            "Successfully built insightface\n",
            "Installing collected packages: onnx, humanfriendly, coloredlogs, onnxruntime, insightface\n",
            "Successfully installed coloredlogs-15.0.1 humanfriendly-10.0 insightface-0.7.3 onnx-1.18.0 onnxruntime-1.22.1\n",
            "Requirement already satisfied: gradio in /usr/local/lib/python3.11/dist-packages (5.31.0)\n",
            "Requirement already satisfied: aiofiles<25.0,>=22.0 in /usr/local/lib/python3.11/dist-packages (from gradio) (24.1.0)\n",
            "Requirement already satisfied: anyio<5.0,>=3.0 in /usr/local/lib/python3.11/dist-packages (from gradio) (4.9.0)\n",
            "Requirement already satisfied: fastapi<1.0,>=0.115.2 in /usr/local/lib/python3.11/dist-packages (from gradio) (0.116.1)\n",
            "Requirement already satisfied: ffmpy in /usr/local/lib/python3.11/dist-packages (from gradio) (0.6.0)\n",
            "Requirement already satisfied: gradio-client==1.10.1 in /usr/local/lib/python3.11/dist-packages (from gradio) (1.10.1)\n",
            "Requirement already satisfied: groovy~=0.1 in /usr/local/lib/python3.11/dist-packages (from gradio) (0.1.2)\n",
            "Requirement already satisfied: httpx>=0.24.1 in /usr/local/lib/python3.11/dist-packages (from gradio) (0.28.1)\n",
            "Requirement already satisfied: huggingface-hub>=0.28.1 in /usr/local/lib/python3.11/dist-packages (from gradio) (0.33.4)\n",
            "Requirement already satisfied: jinja2<4.0 in /usr/local/lib/python3.11/dist-packages (from gradio) (3.1.6)\n",
            "Requirement already satisfied: markupsafe<4.0,>=2.0 in /usr/local/lib/python3.11/dist-packages (from gradio) (3.0.2)\n",
            "Requirement already satisfied: numpy<3.0,>=1.0 in /usr/local/lib/python3.11/dist-packages (from gradio) (2.0.2)\n",
            "Requirement already satisfied: orjson~=3.0 in /usr/local/lib/python3.11/dist-packages (from gradio) (3.11.0)\n",
            "Requirement already satisfied: packaging in /usr/local/lib/python3.11/dist-packages (from gradio) (25.0)\n",
            "Requirement already satisfied: pandas<3.0,>=1.0 in /usr/local/lib/python3.11/dist-packages (from gradio) (2.2.2)\n",
            "Requirement already satisfied: pillow<12.0,>=8.0 in /usr/local/lib/python3.11/dist-packages (from gradio) (11.2.1)\n",
            "Requirement already satisfied: pydantic<2.12,>=2.0 in /usr/local/lib/python3.11/dist-packages (from gradio) (2.11.7)\n",
            "Requirement already satisfied: pydub in /usr/local/lib/python3.11/dist-packages (from gradio) (0.25.1)\n",
            "Requirement already satisfied: python-multipart>=0.0.18 in /usr/local/lib/python3.11/dist-packages (from gradio) (0.0.20)\n",
            "Requirement already satisfied: pyyaml<7.0,>=5.0 in /usr/local/lib/python3.11/dist-packages (from gradio) (6.0.2)\n",
            "Requirement already satisfied: ruff>=0.9.3 in /usr/local/lib/python3.11/dist-packages (from gradio) (0.12.3)\n",
            "Requirement already satisfied: safehttpx<0.2.0,>=0.1.6 in /usr/local/lib/python3.11/dist-packages (from gradio) (0.1.6)\n",
            "Requirement already satisfied: semantic-version~=2.0 in /usr/local/lib/python3.11/dist-packages (from gradio) (2.10.0)\n",
            "Requirement already satisfied: starlette<1.0,>=0.40.0 in /usr/local/lib/python3.11/dist-packages (from gradio) (0.47.1)\n",
            "Requirement already satisfied: tomlkit<0.14.0,>=0.12.0 in /usr/local/lib/python3.11/dist-packages (from gradio) (0.13.3)\n",
            "Requirement already satisfied: typer<1.0,>=0.12 in /usr/local/lib/python3.11/dist-packages (from gradio) (0.16.0)\n",
            "Requirement already satisfied: typing-extensions~=4.0 in /usr/local/lib/python3.11/dist-packages (from gradio) (4.14.1)\n",
            "Requirement already satisfied: uvicorn>=0.14.0 in /usr/local/lib/python3.11/dist-packages (from gradio) (0.35.0)\n",
            "Requirement already satisfied: fsspec in /usr/local/lib/python3.11/dist-packages (from gradio-client==1.10.1->gradio) (2025.3.2)\n",
            "Requirement already satisfied: websockets<16.0,>=10.0 in /usr/local/lib/python3.11/dist-packages (from gradio-client==1.10.1->gradio) (15.0.1)\n",
            "Requirement already satisfied: idna>=2.8 in /usr/local/lib/python3.11/dist-packages (from anyio<5.0,>=3.0->gradio) (3.10)\n",
            "Requirement already satisfied: sniffio>=1.1 in /usr/local/lib/python3.11/dist-packages (from anyio<5.0,>=3.0->gradio) (1.3.1)\n",
            "Requirement already satisfied: certifi in /usr/local/lib/python3.11/dist-packages (from httpx>=0.24.1->gradio) (2025.7.14)\n",
            "Requirement already satisfied: httpcore==1.* in /usr/local/lib/python3.11/dist-packages (from httpx>=0.24.1->gradio) (1.0.9)\n",
            "Requirement already satisfied: h11>=0.16 in /usr/local/lib/python3.11/dist-packages (from httpcore==1.*->httpx>=0.24.1->gradio) (0.16.0)\n",
            "Requirement already satisfied: filelock in /usr/local/lib/python3.11/dist-packages (from huggingface-hub>=0.28.1->gradio) (3.18.0)\n",
            "Requirement already satisfied: requests in /usr/local/lib/python3.11/dist-packages (from huggingface-hub>=0.28.1->gradio) (2.32.3)\n",
            "Requirement already satisfied: tqdm>=4.42.1 in /usr/local/lib/python3.11/dist-packages (from huggingface-hub>=0.28.1->gradio) (4.67.1)\n",
            "Requirement already satisfied: hf-xet<2.0.0,>=1.1.2 in /usr/local/lib/python3.11/dist-packages (from huggingface-hub>=0.28.1->gradio) (1.1.5)\n",
            "Requirement already satisfied: python-dateutil>=2.8.2 in /usr/local/lib/python3.11/dist-packages (from pandas<3.0,>=1.0->gradio) (2.9.0.post0)\n",
            "Requirement already satisfied: pytz>=2020.1 in /usr/local/lib/python3.11/dist-packages (from pandas<3.0,>=1.0->gradio) (2025.2)\n",
            "Requirement already satisfied: tzdata>=2022.7 in /usr/local/lib/python3.11/dist-packages (from pandas<3.0,>=1.0->gradio) (2025.2)\n",
            "Requirement already satisfied: annotated-types>=0.6.0 in /usr/local/lib/python3.11/dist-packages (from pydantic<2.12,>=2.0->gradio) (0.7.0)\n",
            "Requirement already satisfied: pydantic-core==2.33.2 in /usr/local/lib/python3.11/dist-packages (from pydantic<2.12,>=2.0->gradio) (2.33.2)\n",
            "Requirement already satisfied: typing-inspection>=0.4.0 in /usr/local/lib/python3.11/dist-packages (from pydantic<2.12,>=2.0->gradio) (0.4.1)\n",
            "Requirement already satisfied: click>=8.0.0 in /usr/local/lib/python3.11/dist-packages (from typer<1.0,>=0.12->gradio) (8.2.1)\n",
            "Requirement already satisfied: shellingham>=1.3.0 in /usr/local/lib/python3.11/dist-packages (from typer<1.0,>=0.12->gradio) (1.5.4)\n",
            "Requirement already satisfied: rich>=10.11.0 in /usr/local/lib/python3.11/dist-packages (from typer<1.0,>=0.12->gradio) (13.9.4)\n",
            "Requirement already satisfied: six>=1.5 in /usr/local/lib/python3.11/dist-packages (from python-dateutil>=2.8.2->pandas<3.0,>=1.0->gradio) (1.17.0)\n",
            "Requirement already satisfied: markdown-it-py>=2.2.0 in /usr/local/lib/python3.11/dist-packages (from rich>=10.11.0->typer<1.0,>=0.12->gradio) (3.0.0)\n",
            "Requirement already satisfied: pygments<3.0.0,>=2.13.0 in /usr/local/lib/python3.11/dist-packages (from rich>=10.11.0->typer<1.0,>=0.12->gradio) (2.19.2)\n",
            "Requirement already satisfied: charset-normalizer<4,>=2 in /usr/local/lib/python3.11/dist-packages (from requests->huggingface-hub>=0.28.1->gradio) (3.4.2)\n",
            "Requirement already satisfied: urllib3<3,>=1.21.1 in /usr/local/lib/python3.11/dist-packages (from requests->huggingface-hub>=0.28.1->gradio) (2.4.0)\n",
            "Requirement already satisfied: mdurl~=0.1 in /usr/local/lib/python3.11/dist-packages (from markdown-it-py>=2.2.0->rich>=10.11.0->typer<1.0,>=0.12->gradio) (0.1.2)\n",
            "Requirement already satisfied: opencv-python in /usr/local/lib/python3.11/dist-packages (4.11.0.86)\n",
            "Requirement already satisfied: numpy>=1.21.2 in /usr/local/lib/python3.11/dist-packages (from opencv-python) (2.0.2)\n",
            "Requirement already satisfied: matplotlib in /usr/local/lib/python3.11/dist-packages (3.10.0)\n",
            "Requirement already satisfied: contourpy>=1.0.1 in /usr/local/lib/python3.11/dist-packages (from matplotlib) (1.3.2)\n",
            "Requirement already satisfied: cycler>=0.10 in /usr/local/lib/python3.11/dist-packages (from matplotlib) (0.12.1)\n",
            "Requirement already satisfied: fonttools>=4.22.0 in /usr/local/lib/python3.11/dist-packages (from matplotlib) (4.58.5)\n",
            "Requirement already satisfied: kiwisolver>=1.3.1 in /usr/local/lib/python3.11/dist-packages (from matplotlib) (1.4.8)\n",
            "Requirement already satisfied: numpy>=1.23 in /usr/local/lib/python3.11/dist-packages (from matplotlib) (2.0.2)\n",
            "Requirement already satisfied: packaging>=20.0 in /usr/local/lib/python3.11/dist-packages (from matplotlib) (25.0)\n",
            "Requirement already satisfied: pillow>=8 in /usr/local/lib/python3.11/dist-packages (from matplotlib) (11.2.1)\n",
            "Requirement already satisfied: pyparsing>=2.3.1 in /usr/local/lib/python3.11/dist-packages (from matplotlib) (3.2.3)\n",
            "Requirement already satisfied: python-dateutil>=2.7 in /usr/local/lib/python3.11/dist-packages (from matplotlib) (2.9.0.post0)\n",
            "Requirement already satisfied: six>=1.5 in /usr/local/lib/python3.11/dist-packages (from python-dateutil>=2.7->matplotlib) (1.17.0)\n",
            "📦 套件安裝完成！\n",
            "📚 套件導入完成！\n",
            "✅ 環境設定完成！準備開始人臉辨識...\n"
          ]
        }
      ]
    },
    {
      "cell_type": "markdown",
      "source": [
        "### 5. 建立人臉辨識模型與訓練資料庫"
      ],
      "metadata": {
        "id": "fHzYmsA107m0"
      }
    },
    {
      "cell_type": "code",
      "source": [
        "# 初始化 InsightFace 模型\n",
        "print(\"🚀 正在載入 InsightFace 模型...\")\n",
        "app = FaceAnalysis(providers=['CPUExecutionProvider'])\n",
        "app.prepare(ctx_id=0, det_size=(640, 640))\n",
        "print(\"✅ 模型載入完成！\")\n",
        "\n",
        "# 建立人臉特徵資料庫\n",
        "face_database = {}\n",
        "member_names = []\n",
        "\n",
        "def extract_face_features(image_path):\n",
        "    \"\"\"提取人臉特徵\"\"\"\n",
        "    img = cv2.imread(image_path)\n",
        "    if img is None:\n",
        "        return None\n",
        "\n",
        "    faces = app.get(img)\n",
        "    if len(faces) == 0:\n",
        "        return None\n",
        "\n",
        "    # 取第一張臉的特徵\n",
        "    return faces[0].embedding\n",
        "\n",
        "# 從 photos 資料夾建立人臉特徵資料庫\n",
        "print(\"📸 正在建立人臉特徵資料庫...\")\n",
        "for member_en in members_en_list:\n",
        "    member_zh = member_dict[member_en]\n",
        "    photo_dir = os.path.join('photos', member_en)\n",
        "\n",
        "    if not os.path.exists(photo_dir):\n",
        "        print(f\"⚠️  警告: {photo_dir} 資料夾不存在或無照片\")\n",
        "        continue\n",
        "\n",
        "    # 獲取該成員所有照片\n",
        "    image_files = glob.glob(os.path.join(photo_dir, '*'))\n",
        "    image_files = [f for f in image_files if f.lower().endswith(('.jpg', '.jpeg', '.png', '.bmp'))]\n",
        "\n",
        "    if len(image_files) == 0:\n",
        "        print(f\"⚠️  警告: {member_zh} 的資料夾中沒有找到照片\")\n",
        "        continue\n",
        "\n",
        "    member_features = []\n",
        "    successful_images = 0\n",
        "\n",
        "    for img_path in image_files:\n",
        "        features = extract_face_features(img_path)\n",
        "        if features is not None:\n",
        "            member_features.append(features)\n",
        "            successful_images += 1\n",
        "\n",
        "    if len(member_features) > 0:\n",
        "        # 計算平均特徵向量\n",
        "        avg_features = np.mean(member_features, axis=0)\n",
        "        face_database[member_en] = avg_features\n",
        "        member_names.append(member_en)\n",
        "        print(f\"✅ {member_zh}: 成功處理 {successful_images}/{len(image_files)} 張照片\")\n",
        "    else:\n",
        "        print(f\"❌ {member_zh}: 無法從照片中提取人臉特徵\")\n",
        "\n",
        "print(f\"\\n🎉 人臉特徵資料庫建立完成！成功建立 {len(face_database)} 位成員的特徵資料\")\n",
        "print(\"資料庫包含的成員:\", [member_dict[name] for name in member_names])"
      ],
      "metadata": {
        "colab": {
          "base_uri": "https://localhost:8080/"
        },
        "id": "gHKnaaE_TYeG",
        "outputId": "ddcd7205-1ffe-451f-a021-be9ae7f1ebfa"
      },
      "execution_count": 5,
      "outputs": [
        {
          "output_type": "stream",
          "name": "stdout",
          "text": [
            "🚀 正在載入 InsightFace 模型...\n",
            "download_path: /root/.insightface/models/buffalo_l\n",
            "Downloading /root/.insightface/models/buffalo_l.zip from https://github.com/deepinsight/insightface/releases/download/v0.7/buffalo_l.zip...\n"
          ]
        },
        {
          "output_type": "stream",
          "name": "stderr",
          "text": [
            "100%|██████████| 281857/281857 [00:02<00:00, 97172.61KB/s]\n"
          ]
        },
        {
          "output_type": "stream",
          "name": "stdout",
          "text": [
            "Applied providers: ['CPUExecutionProvider'], with options: {'CPUExecutionProvider': {}}\n",
            "find model: /root/.insightface/models/buffalo_l/1k3d68.onnx landmark_3d_68 ['None', 3, 192, 192] 0.0 1.0\n",
            "Applied providers: ['CPUExecutionProvider'], with options: {'CPUExecutionProvider': {}}\n",
            "find model: /root/.insightface/models/buffalo_l/2d106det.onnx landmark_2d_106 ['None', 3, 192, 192] 0.0 1.0\n",
            "Applied providers: ['CPUExecutionProvider'], with options: {'CPUExecutionProvider': {}}\n",
            "find model: /root/.insightface/models/buffalo_l/det_10g.onnx detection [1, 3, '?', '?'] 127.5 128.0\n",
            "Applied providers: ['CPUExecutionProvider'], with options: {'CPUExecutionProvider': {}}\n",
            "find model: /root/.insightface/models/buffalo_l/genderage.onnx genderage ['None', 3, 96, 96] 0.0 1.0\n",
            "Applied providers: ['CPUExecutionProvider'], with options: {'CPUExecutionProvider': {}}\n",
            "find model: /root/.insightface/models/buffalo_l/w600k_r50.onnx recognition ['None', 3, 112, 112] 127.5 127.5\n",
            "set det-size: (640, 640)\n",
            "✅ 模型載入完成！\n",
            "📸 正在建立人臉特徵資料庫...\n",
            "✅ 兪真유진: 成功處理 5/6 張照片\n",
            "✅ 員瑛원영: 成功處理 8/8 張照片\n",
            "✅ 秋天가을: 成功處理 8/8 張照片\n",
            "✅ Rei레이: 成功處理 8/9 張照片\n",
            "✅ Liz리즈: 成功處理 5/5 張照片\n",
            "✅ 李瑞이서: 成功處理 7/9 張照片\n",
            "\n",
            "🎉 人臉特徵資料庫建立完成！成功建立 6 位成員的特徵資料\n",
            "資料庫包含的成員: ['兪真유진', '員瑛원영', '秋天가을', 'Rei레이', 'Liz리즈', '李瑞이서']\n"
          ]
        }
      ]
    },
    {
      "cell_type": "markdown",
      "source": [
        "### 6. 測試人臉辨識功能"
      ],
      "metadata": {
        "id": "1DfRbQuN4Rfg"
      }
    },
    {
      "cell_type": "code",
      "source": [
        "def recognize_face(image_path, threshold=0.6):\n",
        "    \"\"\"辨識人臉\"\"\"\n",
        "    features = extract_face_features(image_path)\n",
        "    if features is None:\n",
        "        return None, 0\n",
        "\n",
        "    best_match = None\n",
        "    best_score = float('inf')\n",
        "\n",
        "    for member_en, db_features in face_database.items():\n",
        "        # 計算餘弦相似度\n",
        "        similarity = np.dot(features, db_features) / (np.linalg.norm(features) * np.linalg.norm(db_features))\n",
        "        distance = 1 - similarity\n",
        "\n",
        "        if distance < best_score:\n",
        "            best_score = distance\n",
        "            best_match = member_en\n",
        "\n",
        "    confidence = 1 - best_score\n",
        "    if confidence < threshold:\n",
        "        return None, confidence\n",
        "\n",
        "    return best_match, confidence\n",
        "\n",
        "def display_test_results():\n",
        "    \"\"\"顯示測試結果\"\"\"\n",
        "    test_results = []\n",
        "\n",
        "    print(\"🔍 正在測試 test_photos 中的照片...\")\n",
        "    print(\"=\"*80)\n",
        "\n",
        "    for member_en in members_en_list:\n",
        "        member_zh = member_dict[member_en]\n",
        "        test_dir = os.path.join('test_photos', member_en)\n",
        "\n",
        "        if not os.path.exists(test_dir):\n",
        "            continue\n",
        "\n",
        "        image_files = glob.glob(os.path.join(test_dir, '*'))\n",
        "        image_files = [f for f in image_files if f.lower().endswith(('.jpg', '.jpeg', '.png', '.bmp'))]\n",
        "\n",
        "        if len(image_files) == 0:\n",
        "            continue\n",
        "\n",
        "        for img_path in image_files:\n",
        "            predicted_member, confidence = recognize_face(img_path)\n",
        "\n",
        "            if predicted_member:\n",
        "                predicted_zh = member_dict[predicted_member]\n",
        "                is_correct = predicted_member == member_en\n",
        "                status = \"✅ 正確\" if is_correct else \"❌ 錯誤\"\n",
        "\n",
        "                print(f\"📷 {os.path.basename(img_path)}\")\n",
        "                print(f\"   實際: {member_zh}\")\n",
        "                print(f\"   預測: {predicted_zh} (信心度: {confidence:.2f})\")\n",
        "                print(f\"   結果: {status}\")\n",
        "\n",
        "                test_results.append({\n",
        "                    'image': os.path.basename(img_path),\n",
        "                    'actual': member_zh,\n",
        "                    'predicted': predicted_zh,\n",
        "                    'confidence': confidence,\n",
        "                    'correct': is_correct\n",
        "                })\n",
        "            else:\n",
        "                print(f\"📷 {os.path.basename(img_path)}\")\n",
        "                print(f\"   實際: {member_zh}\")\n",
        "                print(f\"   預測: 無法辨識 (信心度過低)\")\n",
        "                print(f\"   結果: ❌ 無法辨識\")\n",
        "\n",
        "                test_results.append({\n",
        "                    'image': os.path.basename(img_path),\n",
        "                    'actual': member_zh,\n",
        "                    'predicted': \"無法辨識\",\n",
        "                    'confidence': confidence if 'confidence' in locals() else 0,\n",
        "                    'correct': False\n",
        "                })\n",
        "\n",
        "            print(\"-\" * 50)\n",
        "\n",
        "    # 統計結果\n",
        "    if test_results:\n",
        "        correct_count = sum(1 for result in test_results if result['correct'])\n",
        "        total_count = len(test_results)\n",
        "        accuracy = correct_count / total_count * 100\n",
        "\n",
        "        print(f\"\\n📊 測試結果統計:\")\n",
        "        print(f\"總測試張數: {total_count}\")\n",
        "        print(f\"正確辨識: {correct_count}\")\n",
        "        print(f\"準確率: {accuracy:.1f}%\")\n",
        "\n",
        "        return test_results\n",
        "    else:\n",
        "        print(\"⚠️  test_photos 資料夾中沒有找到測試照片\")\n",
        "        return []\n",
        "\n",
        "# 執行測試\n",
        "test_results = display_test_results()"
      ],
      "metadata": {
        "colab": {
          "base_uri": "https://localhost:8080/"
        },
        "id": "WzNqCbRKTj08",
        "outputId": "8309052e-fd15-429e-eea5-b4b8b4cbbc47"
      },
      "execution_count": 6,
      "outputs": [
        {
          "output_type": "stream",
          "name": "stdout",
          "text": [
            "🔍 正在測試 test_photos 中的照片...\n",
            "================================================================================\n",
            "📷 test04.jpg\n",
            "   實際: 兪真유진\n",
            "   預測: 無法辨識 (信心度過低)\n",
            "   結果: ❌ 無法辨識\n",
            "--------------------------------------------------\n",
            "📷 test01.jpg\n",
            "   實際: 員瑛원영\n",
            "   預測: 員瑛원영 (信心度: 0.61)\n",
            "   結果: ✅ 正確\n",
            "--------------------------------------------------\n",
            "📷 test03.jpg\n",
            "   實際: 秋天가을\n",
            "   預測: 秋天가을 (信心度: 0.71)\n",
            "   結果: ✅ 正確\n",
            "--------------------------------------------------\n",
            "📷 test06.jpg\n",
            "   實際: Rei레이\n",
            "   預測: Rei레이 (信心度: 0.67)\n",
            "   結果: ✅ 正確\n",
            "--------------------------------------------------\n",
            "📷 test05.jpg\n",
            "   實際: Liz리즈\n",
            "   預測: Liz리즈 (信心度: 0.75)\n",
            "   結果: ✅ 正確\n",
            "--------------------------------------------------\n",
            "📷 test02.jpg\n",
            "   實際: 李瑞이서\n",
            "   預測: 李瑞이서 (信心度: 0.76)\n",
            "   結果: ✅ 正確\n",
            "--------------------------------------------------\n",
            "\n",
            "📊 測試結果統計:\n",
            "總測試張數: 6\n",
            "正確辨識: 5\n",
            "準確率: 83.3%\n"
          ]
        }
      ]
    },
    {
      "cell_type": "markdown",
      "source": [
        "### 7. Gradio 互動 PK 遊戲"
      ],
      "metadata": {
        "id": "pb6vtYy94d8G"
      }
    },
    {
      "cell_type": "code",
      "source": [
        "import gradio as gr\n",
        "import random\n",
        "\n",
        "# 遊戲狀態\n",
        "game_state = {\n",
        "    'current_image': None,\n",
        "    'current_answer': None,\n",
        "    'user_score': 0,\n",
        "    'ai_score': 0,\n",
        "    'round_count': 0,\n",
        "    'test_images': []\n",
        "}\n",
        "\n",
        "def initialize_game():\n",
        "    \"\"\"初始化遊戲，收集所有測試照片\"\"\"\n",
        "    test_images = []\n",
        "\n",
        "    for member_en in members_en_list:\n",
        "        test_dir = os.path.join('test_photos', member_en)\n",
        "        if os.path.exists(test_dir):\n",
        "            image_files = glob.glob(os.path.join(test_dir, '*'))\n",
        "            image_files = [f for f in image_files if f.lower().endswith(('.jpg', '.jpeg', '.png', '.bmp'))]\n",
        "\n",
        "            for img_path in image_files:\n",
        "                test_images.append({\n",
        "                    'path': img_path,\n",
        "                    'answer': member_en,\n",
        "                    'answer_zh': member_dict[member_en]\n",
        "                })\n",
        "\n",
        "    game_state['test_images'] = test_images\n",
        "    random.shuffle(game_state['test_images'])\n",
        "    return len(test_images)\n",
        "\n",
        "def get_next_question():\n",
        "    \"\"\"獲取下一題\"\"\"\n",
        "    if not game_state['test_images']:\n",
        "        return None, None, \"遊戲結束！沒有更多照片了。\"\n",
        "\n",
        "    # 隨機選擇一張照片\n",
        "    current_img = random.choice(game_state['test_images'])\n",
        "    game_state['current_image'] = current_img['path']\n",
        "    game_state['current_answer'] = current_img['answer']\n",
        "\n",
        "    # AI 進行預測\n",
        "    ai_prediction, confidence = recognize_face(current_img['path'])\n",
        "\n",
        "    info_text = f\"🎮 第 {game_state['round_count'] + 1} 回合\\n\"\n",
        "    info_text += f\"👤 玩家分數: {game_state['user_score']} | 🤖 AI分數: {game_state['ai_score']}\\n\"\n",
        "    info_text += f\"🧠 AI預測: {member_dict.get(ai_prediction, '無法辨識')} (信心度: {confidence:.2f})\"\n",
        "\n",
        "    return current_img['path'], info_text, ai_prediction\n",
        "\n",
        "def check_answer(user_choice, ai_prediction):\n",
        "    \"\"\"檢查答案並更新分數\"\"\"\n",
        "    if game_state['current_answer'] is None:\n",
        "        return \"請先點擊'下一題'開始遊戲！\", None, \"\"\n",
        "\n",
        "    correct_answer = game_state['current_answer']\n",
        "    correct_answer_zh = member_dict[correct_answer]\n",
        "\n",
        "    # 檢查玩家答案\n",
        "    user_correct = (user_choice == correct_answer_zh)\n",
        "    ai_correct = (ai_prediction == correct_answer)\n",
        "\n",
        "    # 更新分數\n",
        "    if user_correct:\n",
        "        game_state['user_score'] += 1\n",
        "    if ai_correct:\n",
        "        game_state['ai_score'] += 1\n",
        "\n",
        "    game_state['round_count'] += 1\n",
        "\n",
        "    # 準備結果訊息\n",
        "    result_text = f\"📝 第 {game_state['round_count']} 回合結果\\n\"\n",
        "    result_text += f\"{'='*40}\\n\"\n",
        "    result_text += f\"🎯 正確答案: {correct_answer_zh}\\n\"\n",
        "    result_text += f\"👤 你的答案: {user_choice} {'✅' if user_correct else '❌'}\\n\"\n",
        "    result_text += f\"🤖 AI的答案: {member_dict.get(ai_prediction, '無法辨識')} {'✅' if ai_correct else '❌'}\\n\"\n",
        "    result_text += f\"{'='*40}\\n\"\n",
        "    result_text += f\"📊 目前總分\\n\"\n",
        "    result_text += f\"👤 玩家: {game_state['user_score']} 分\\n\"\n",
        "    result_text += f\"🤖 AI: {game_state['ai_score']} 分\\n\"\n",
        "\n",
        "    if game_state['round_count'] >= 10:  # 可以調整遊戲回合數\n",
        "        result_text += f\"\\n🎉 遊戲結束！\\n\"\n",
        "        if game_state['user_score'] > game_state['ai_score']:\n",
        "            result_text += \"🏆 恭喜你獲勝！\"\n",
        "        elif game_state['user_score'] < game_state['ai_score']:\n",
        "            result_text += \"🤖 AI獲勝！繼續加油！\"\n",
        "        else:\n",
        "            result_text += \"🤝 平手！實力相當！\"\n",
        "\n",
        "    # 清除當前題目狀態\n",
        "    game_state['current_answer'] = None\n",
        "\n",
        "    return result_text, None, \"\"\n",
        "\n",
        "def reset_game():\n",
        "    \"\"\"重置遊戲\"\"\"\n",
        "    game_state['user_score'] = 0\n",
        "    game_state['ai_score'] = 0\n",
        "    game_state['round_count'] = 0\n",
        "    game_state['current_answer'] = None\n",
        "    initialize_game()\n",
        "    return \"🎮 遊戲重置完成！點擊'下一題'開始新遊戲。\", None, \"\"\n",
        "\n",
        "# 初始化遊戲\n",
        "total_images = initialize_game()\n",
        "\n",
        "# 建立 Gradio 介面\n",
        "with gr.Blocks(title=\"IVE 成員辨識 PK 大賽\", theme=gr.themes.Soft()) as demo:\n",
        "    gr.HTML(\"\"\"\n",
        "    <div style=\"text-align: center;\">\n",
        "        <h1>🎤 IVE 成員辨識 PK 大賽 🎤</h1>\n",
        "        <p>和 AI 一起來辨識 IVE 成員吧！看看誰比較厲害？</p>\n",
        "    </div>\n",
        "    \"\"\")\n",
        "\n",
        "    with gr.Row():\n",
        "        with gr.Column(scale=1):\n",
        "            image_display = gr.Image(label=\"猜猜這是哪位成員？\", height=400)\n",
        "            game_info = gr.Textbox(label=\"遊戲資訊\", lines=3, interactive=False)\n",
        "\n",
        "        with gr.Column(scale=1):\n",
        "            gr.HTML(\"<h3>👤 選擇你的答案：</h3>\")\n",
        "            user_choice = gr.Radio(\n",
        "                choices=[member_dict[member] for member in members_en_list],\n",
        "                label=\"IVE 成員\",\n",
        "                value=None\n",
        "            )\n",
        "\n",
        "            with gr.Row():\n",
        "                next_btn = gr.Button(\"🎯 下一題\", variant=\"primary\")\n",
        "                submit_btn = gr.Button(\"✅ 提交答案\", variant=\"secondary\")\n",
        "                reset_btn = gr.Button(\"🔄 重新開始\", variant=\"stop\")\n",
        "\n",
        "    result_display = gr.Textbox(label=\"結果公布\", lines=10, interactive=False)\n",
        "\n",
        "    # 隱藏的狀態變數來儲存 AI 預測\n",
        "    ai_prediction_state = gr.State()\n",
        "\n",
        "    # 事件綁定\n",
        "    next_btn.click(\n",
        "        fn=get_next_question,\n",
        "        outputs=[image_display, game_info, ai_prediction_state]\n",
        "    )\n",
        "\n",
        "    submit_btn.click(\n",
        "        fn=check_answer,\n",
        "        inputs=[user_choice, ai_prediction_state],\n",
        "        outputs=[result_display, image_display, game_info]\n",
        "    )\n",
        "\n",
        "    reset_btn.click(\n",
        "        fn=reset_game,\n",
        "        outputs=[result_display, image_display, game_info]\n",
        "    )\n",
        "\n",
        "print(f\"🎮 遊戲準備完成！找到 {total_images} 張測試照片\")\n",
        "print(\"🚀 啟動 Gradio 介面...\")\n",
        "\n",
        "# 啟動介面\n",
        "demo.launch(share=True, debug=True)"
      ],
      "metadata": {
        "colab": {
          "base_uri": "https://localhost:8080/",
          "height": 680
        },
        "id": "9ooHc24HTw_p",
        "outputId": "0c17d876-483b-4359-9f3c-1f42825ab592"
      },
      "execution_count": 7,
      "outputs": [
        {
          "output_type": "stream",
          "name": "stdout",
          "text": [
            "🎮 遊戲準備完成！找到 6 張測試照片\n",
            "🚀 啟動 Gradio 介面...\n",
            "Colab notebook detected. This cell will run indefinitely so that you can see errors and logs. To turn off, set debug=False in launch().\n",
            "* Running on public URL: https://7032e9dea18927056d.gradio.live\n",
            "\n",
            "This share link expires in 1 week. For free permanent hosting and GPU upgrades, run `gradio deploy` from the terminal in the working directory to deploy to Hugging Face Spaces (https://huggingface.co/spaces)\n"
          ]
        },
        {
          "output_type": "display_data",
          "data": {
            "text/plain": [
              "<IPython.core.display.HTML object>"
            ],
            "text/html": [
              "<div><iframe src=\"https://7032e9dea18927056d.gradio.live\" width=\"100%\" height=\"500\" allow=\"autoplay; camera; microphone; clipboard-read; clipboard-write;\" frameborder=\"0\" allowfullscreen></iframe></div>"
            ]
          },
          "metadata": {}
        },
        {
          "output_type": "stream",
          "name": "stdout",
          "text": [
            "Keyboard interruption in main thread... closing server.\n",
            "Killing tunnel 127.0.0.1:7860 <> https://7032e9dea18927056d.gradio.live\n"
          ]
        },
        {
          "output_type": "execute_result",
          "data": {
            "text/plain": []
          },
          "metadata": {},
          "execution_count": 7
        }
      ]
    },
    {
      "cell_type": "markdown",
      "source": [
        "### 8. 把這次的照片壓縮成 `.zip` 檔"
      ],
      "metadata": {
        "id": "HLaA2fxZVOfi"
      }
    },
    {
      "cell_type": "code",
      "metadata": {
        "colab": {
          "base_uri": "https://localhost:8080/"
        },
        "id": "721b9170",
        "outputId": "2443c965-e853-45fe-c3da-5aeaace98aeb"
      },
      "source": [
        "!zip -r photos.zip photos test_photos"
      ],
      "execution_count": 8,
      "outputs": [
        {
          "output_type": "stream",
          "name": "stdout",
          "text": [
            "  adding: photos/ (stored 0%)\n",
            "  adding: photos/wonyoung/ (stored 0%)\n",
            "  adding: photos/wonyoung/wonyoung11.jpg (deflated 2%)\n",
            "  adding: photos/wonyoung/wonyoung08.jpg (deflated 1%)\n",
            "  adding: photos/wonyoung/.ipynb_checkpoints/ (stored 0%)\n",
            "  adding: photos/wonyoung/wonyoung07.jpg (deflated 2%)\n",
            "  adding: photos/wonyoung/wonyoung14.jpg (deflated 1%)\n",
            "  adding: photos/wonyoung/wonyoung09.jpg (deflated 1%)\n",
            "  adding: photos/wonyoung/wonyoung04.jpg (deflated 0%)\n",
            "  adding: photos/wonyoung/wonyoung13.jpg (deflated 1%)\n",
            "  adding: photos/wonyoung/wonyoung01.jpg (deflated 1%)\n",
            "  adding: photos/rei/ (stored 0%)\n",
            "  adding: photos/rei/rei11.jpg (deflated 1%)\n",
            "  adding: photos/rei/rei12.jpg (deflated 1%)\n",
            "  adding: photos/rei/.ipynb_checkpoints/ (stored 0%)\n",
            "  adding: photos/rei/rei13.jpg (deflated 2%)\n",
            "  adding: photos/rei/rei03.jpg (deflated 2%)\n",
            "  adding: photos/rei/rei09.jpg (deflated 0%)\n",
            "  adding: photos/rei/rei10.jpg (deflated 1%)\n",
            "  adding: photos/rei/rei04.jpg (deflated 0%)\n",
            "  adding: photos/rei/rei08.jpg (deflated 4%)\n",
            "  adding: photos/rei/rei02.jpg (deflated 8%)\n",
            "  adding: photos/leeseo/ (stored 0%)\n",
            "  adding: photos/leeseo/leeseo08.jpg (deflated 3%)\n",
            "  adding: photos/leeseo/leeseo01.jpg (deflated 0%)\n",
            "  adding: photos/leeseo/leeseo04.jpg (deflated 18%)\n",
            "  adding: photos/leeseo/leeseo03.jpg (deflated 8%)\n",
            "  adding: photos/leeseo/.ipynb_checkpoints/ (stored 0%)\n",
            "  adding: photos/leeseo/leeseo10.jpg (deflated 3%)\n",
            "  adding: photos/leeseo/leeseo09.jpg (deflated 2%)\n",
            "  adding: photos/leeseo/leeseo07.jpg (deflated 3%)\n",
            "  adding: photos/leeseo/leeseo02.jpg (deflated 6%)\n",
            "  adding: photos/leeseo/leeseo06.jpg (deflated 6%)\n",
            "  adding: photos/gaeul/ (stored 0%)\n",
            "  adding: photos/gaeul/gaeul02.jpg (deflated 1%)\n",
            "  adding: photos/gaeul/gaeul05.jpg (deflated 1%)\n",
            "  adding: photos/gaeul/gaeul08.jpg (deflated 2%)\n",
            "  adding: photos/gaeul/gaeul07.jpg (deflated 1%)\n",
            "  adding: photos/gaeul/gaeul04.jpg (deflated 1%)\n",
            "  adding: photos/gaeul/gaeul01.jpg (deflated 2%)\n",
            "  adding: photos/gaeul/gaeul01.png (deflated 0%)\n",
            "  adding: photos/gaeul/gaeul03.jpg (deflated 1%)\n",
            "  adding: photos/liz/ (stored 0%)\n",
            "  adding: photos/liz/liz04.jpg (deflated 1%)\n",
            "  adding: photos/liz/.ipynb_checkpoints/ (stored 0%)\n",
            "  adding: photos/liz/liz05.jpg (deflated 2%)\n",
            "  adding: photos/liz/liz02.jpg (deflated 1%)\n",
            "  adding: photos/liz/liz01.jpg (deflated 1%)\n",
            "  adding: photos/liz/liz03.jpg (deflated 1%)\n",
            "  adding: photos/yujin/ (stored 0%)\n",
            "  adding: photos/yujin/.ipynb_checkpoints/ (stored 0%)\n",
            "  adding: photos/yujin/yujin09.jpg (deflated 4%)\n",
            "  adding: photos/yujin/yujin03.jpg (deflated 0%)\n",
            "  adding: photos/yujin/yujin04.jpg (deflated 1%)\n",
            "  adding: photos/yujin/yujin06.jpg (deflated 0%)\n",
            "  adding: photos/yujin/yujin01.jpg (deflated 3%)\n",
            "  adding: photos/yujin/yujin08.jpg (deflated 0%)\n",
            "  adding: test_photos/ (stored 0%)\n",
            "  adding: test_photos/wonyoung/ (stored 0%)\n",
            "  adding: test_photos/wonyoung/test01.jpg (deflated 0%)\n",
            "  adding: test_photos/rei/ (stored 0%)\n",
            "  adding: test_photos/rei/test06.jpg (deflated 7%)\n",
            "  adding: test_photos/leeseo/ (stored 0%)\n",
            "  adding: test_photos/leeseo/test02.jpg (deflated 1%)\n",
            "  adding: test_photos/gaeul/ (stored 0%)\n",
            "  adding: test_photos/gaeul/test03.jpg (deflated 5%)\n",
            "  adding: test_photos/liz/ (stored 0%)\n",
            "  adding: test_photos/liz/test05.jpg (deflated 1%)\n",
            "  adding: test_photos/yujin/ (stored 0%)\n",
            "  adding: test_photos/yujin/test04.jpg (deflated 1%)\n"
          ]
        }
      ]
    },
    {
      "cell_type": "markdown",
      "source": [
        "### 9. 【附錄】這次 vibe coding 的 prompt\n",
        "\n",
        "```\n",
        "我們想用 Colab, 還有 insightface package:\n",
        "\n",
        "https://github.com/deepinsight/insightface\n",
        "\n",
        "寫一個人臉辨識的教學程式。為了要讓學生覺得有趣, 會用 K-POP 女團 IVE 為例子。程式會在 Colab 上跑, 所以請一段一段的寫, 讓學生可以一段一段的試驗。\n",
        "\n",
        "1. 為了要讓學生容易改成自己的專案, 首先會先設要辨識的對象:\n",
        "\n",
        "# 成員英文名, 這是因為資料夾名稱用中文有時會出問題\n",
        "members_en = \"yujin,wonyoung,gaeul,rei,liz,leeseo\"\n",
        "\n",
        "# 成員中文名, 顯示時用的名稱\n",
        "members_zh = \"兪真유진,員瑛원영,秋天가을,Liz리즈,Rei레이,李瑞이서\"\n",
        "\n",
        "之後要建資料夾等都是用英文, 但顯示都是用中文名稱。\n",
        "\n",
        "2. 建立 photos 資料夾, 裡面有每一位成員英文名的子資料夾。\n",
        "\n",
        "3. 建立 test_photos 資料夾, 一樣裡面有每一位成員英文名的子資料夾。\n",
        "(這時會讓學生找成員照片, 放入對應的資料夾中)\n",
        "\n",
        "4. 使用 insightface 人臉辨識模型, 先去辨試 test_photos 裡, 顯示讓學生看結果如何。\n",
        "\n",
        "5. 用 gradio 打造一個互動 PK 小遊戲, 每次由 test_photos 挑出一張照片, 讓使用者選是哪位成員, 電腦也預測。最後公佈誰答得正確, 並且計分。\n",
        "\n",
        "註: 使用者可以更換裡面 test_photos 裡的照片, 重新跑 gradio 那段, 就會有不同的「考題」。\n",
        "```"
      ],
      "metadata": {
        "id": "AFEmkeK_Va7d"
      }
    },
    {
      "cell_type": "code",
      "source": [],
      "metadata": {
        "id": "Ct0SR-huV1OS"
      },
      "execution_count": null,
      "outputs": []
    }
  ]
}