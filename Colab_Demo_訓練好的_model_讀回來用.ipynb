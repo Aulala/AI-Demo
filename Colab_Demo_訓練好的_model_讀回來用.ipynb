{
  "nbformat": 4,
  "nbformat_minor": 0,
  "metadata": {
    "colab": {
      "name": "Colab_Demo_訓練好的 model 讀回來用.ipynb",
      "provenance": [],
      "authorship_tag": "ABX9TyN9EMKfVFlrDlm2xo4ILp/g",
      "include_colab_link": true
    },
    "kernelspec": {
      "name": "python3",
      "display_name": "Python 3"
    },
    "language_info": {
      "name": "python"
    }
  },
  "cells": [
    {
      "cell_type": "markdown",
      "metadata": {
        "id": "view-in-github",
        "colab_type": "text"
      },
      "source": [
        "<a href=\"https://colab.research.google.com/github/yenlung/AI-Demo/blob/master/Colab_Demo_%E8%A8%93%E7%B7%B4%E5%A5%BD%E7%9A%84_model_%E8%AE%80%E5%9B%9E%E4%BE%86%E7%94%A8.ipynb\" target=\"_parent\"><img src=\"https://colab.research.google.com/assets/colab-badge.svg\" alt=\"Open In Colab\"/></a>"
      ]
    },
    {
      "cell_type": "markdown",
      "metadata": {
        "id": "kJVFbug-RYI4"
      },
      "source": [
        "#### 注意\n",
        "\n",
        "這裡假設用過 Colab Demo 做了一個手寫辨識系統, 並存好了。"
      ]
    },
    {
      "cell_type": "code",
      "metadata": {
        "colab": {
          "base_uri": "https://localhost:8080/"
        },
        "id": "EnuU_zPqR4Mo",
        "outputId": "99fd8857-6f2e-4499-f359-c7fd86c66cf4"
      },
      "source": [
        "!pip install gradio"
      ],
      "execution_count": 1,
      "outputs": [
        {
          "output_type": "stream",
          "text": [
            "Collecting gradio\n",
            "\u001b[?25l  Downloading https://files.pythonhosted.org/packages/5c/dc/644af2aad44b521b41172f5be74399493df7f91ac87c169b867f061f6a3b/gradio-2.0.0-py3-none-any.whl (1.3MB)\n",
            "\r\u001b[K     |▎                               | 10kB 15.8MB/s eta 0:00:01\r\u001b[K     |▌                               | 20kB 20.8MB/s eta 0:00:01\r\u001b[K     |▊                               | 30kB 24.4MB/s eta 0:00:01\r\u001b[K     |█                               | 40kB 27.5MB/s eta 0:00:01\r\u001b[K     |█▎                              | 51kB 30.7MB/s eta 0:00:01\r\u001b[K     |█▌                              | 61kB 30.1MB/s eta 0:00:01\r\u001b[K     |█▊                              | 71kB 30.7MB/s eta 0:00:01\r\u001b[K     |██                              | 81kB 31.9MB/s eta 0:00:01\r\u001b[K     |██▎                             | 92kB 32.8MB/s eta 0:00:01\r\u001b[K     |██▌                             | 102kB 32.7MB/s eta 0:00:01\r\u001b[K     |██▊                             | 112kB 32.7MB/s eta 0:00:01\r\u001b[K     |███                             | 122kB 32.7MB/s eta 0:00:01\r\u001b[K     |███▎                            | 133kB 32.7MB/s eta 0:00:01\r\u001b[K     |███▌                            | 143kB 32.7MB/s eta 0:00:01\r\u001b[K     |███▊                            | 153kB 32.7MB/s eta 0:00:01\r\u001b[K     |████                            | 163kB 32.7MB/s eta 0:00:01\r\u001b[K     |████▎                           | 174kB 32.7MB/s eta 0:00:01\r\u001b[K     |████▌                           | 184kB 32.7MB/s eta 0:00:01\r\u001b[K     |████▊                           | 194kB 32.7MB/s eta 0:00:01\r\u001b[K     |█████                           | 204kB 32.7MB/s eta 0:00:01\r\u001b[K     |█████▎                          | 215kB 32.7MB/s eta 0:00:01\r\u001b[K     |█████▌                          | 225kB 32.7MB/s eta 0:00:01\r\u001b[K     |█████▊                          | 235kB 32.7MB/s eta 0:00:01\r\u001b[K     |██████                          | 245kB 32.7MB/s eta 0:00:01\r\u001b[K     |██████▎                         | 256kB 32.7MB/s eta 0:00:01\r\u001b[K     |██████▌                         | 266kB 32.7MB/s eta 0:00:01\r\u001b[K     |██████▊                         | 276kB 32.7MB/s eta 0:00:01\r\u001b[K     |███████                         | 286kB 32.7MB/s eta 0:00:01\r\u001b[K     |███████▎                        | 296kB 32.7MB/s eta 0:00:01\r\u001b[K     |███████▌                        | 307kB 32.7MB/s eta 0:00:01\r\u001b[K     |███████▊                        | 317kB 32.7MB/s eta 0:00:01\r\u001b[K     |████████                        | 327kB 32.7MB/s eta 0:00:01\r\u001b[K     |████████▎                       | 337kB 32.7MB/s eta 0:00:01\r\u001b[K     |████████▌                       | 348kB 32.7MB/s eta 0:00:01\r\u001b[K     |████████▊                       | 358kB 32.7MB/s eta 0:00:01\r\u001b[K     |█████████                       | 368kB 32.7MB/s eta 0:00:01\r\u001b[K     |█████████▎                      | 378kB 32.7MB/s eta 0:00:01\r\u001b[K     |█████████▌                      | 389kB 32.7MB/s eta 0:00:01\r\u001b[K     |█████████▊                      | 399kB 32.7MB/s eta 0:00:01\r\u001b[K     |██████████                      | 409kB 32.7MB/s eta 0:00:01\r\u001b[K     |██████████▎                     | 419kB 32.7MB/s eta 0:00:01\r\u001b[K     |██████████▌                     | 430kB 32.7MB/s eta 0:00:01\r\u001b[K     |██████████▊                     | 440kB 32.7MB/s eta 0:00:01\r\u001b[K     |███████████                     | 450kB 32.7MB/s eta 0:00:01\r\u001b[K     |███████████▎                    | 460kB 32.7MB/s eta 0:00:01\r\u001b[K     |███████████▌                    | 471kB 32.7MB/s eta 0:00:01\r\u001b[K     |███████████▊                    | 481kB 32.7MB/s eta 0:00:01\r\u001b[K     |████████████                    | 491kB 32.7MB/s eta 0:00:01\r\u001b[K     |████████████▎                   | 501kB 32.7MB/s eta 0:00:01\r\u001b[K     |████████████▌                   | 512kB 32.7MB/s eta 0:00:01\r\u001b[K     |████████████▊                   | 522kB 32.7MB/s eta 0:00:01\r\u001b[K     |█████████████                   | 532kB 32.7MB/s eta 0:00:01\r\u001b[K     |█████████████▏                  | 542kB 32.7MB/s eta 0:00:01\r\u001b[K     |█████████████▌                  | 552kB 32.7MB/s eta 0:00:01\r\u001b[K     |█████████████▊                  | 563kB 32.7MB/s eta 0:00:01\r\u001b[K     |██████████████                  | 573kB 32.7MB/s eta 0:00:01\r\u001b[K     |██████████████▏                 | 583kB 32.7MB/s eta 0:00:01\r\u001b[K     |██████████████▌                 | 593kB 32.7MB/s eta 0:00:01\r\u001b[K     |██████████████▊                 | 604kB 32.7MB/s eta 0:00:01\r\u001b[K     |███████████████                 | 614kB 32.7MB/s eta 0:00:01\r\u001b[K     |███████████████▏                | 624kB 32.7MB/s eta 0:00:01\r\u001b[K     |███████████████▌                | 634kB 32.7MB/s eta 0:00:01\r\u001b[K     |███████████████▊                | 645kB 32.7MB/s eta 0:00:01\r\u001b[K     |████████████████                | 655kB 32.7MB/s eta 0:00:01\r\u001b[K     |████████████████▏               | 665kB 32.7MB/s eta 0:00:01\r\u001b[K     |████████████████▌               | 675kB 32.7MB/s eta 0:00:01\r\u001b[K     |████████████████▊               | 686kB 32.7MB/s eta 0:00:01\r\u001b[K     |█████████████████               | 696kB 32.7MB/s eta 0:00:01\r\u001b[K     |█████████████████▏              | 706kB 32.7MB/s eta 0:00:01\r\u001b[K     |█████████████████▌              | 716kB 32.7MB/s eta 0:00:01\r\u001b[K     |█████████████████▊              | 727kB 32.7MB/s eta 0:00:01\r\u001b[K     |██████████████████              | 737kB 32.7MB/s eta 0:00:01\r\u001b[K     |██████████████████▏             | 747kB 32.7MB/s eta 0:00:01\r\u001b[K     |██████████████████▌             | 757kB 32.7MB/s eta 0:00:01\r\u001b[K     |██████████████████▊             | 768kB 32.7MB/s eta 0:00:01\r\u001b[K     |███████████████████             | 778kB 32.7MB/s eta 0:00:01\r\u001b[K     |███████████████████▏            | 788kB 32.7MB/s eta 0:00:01\r\u001b[K     |███████████████████▌            | 798kB 32.7MB/s eta 0:00:01\r\u001b[K     |███████████████████▊            | 808kB 32.7MB/s eta 0:00:01\r\u001b[K     |████████████████████            | 819kB 32.7MB/s eta 0:00:01\r\u001b[K     |████████████████████▏           | 829kB 32.7MB/s eta 0:00:01\r\u001b[K     |████████████████████▌           | 839kB 32.7MB/s eta 0:00:01\r\u001b[K     |████████████████████▊           | 849kB 32.7MB/s eta 0:00:01\r\u001b[K     |█████████████████████           | 860kB 32.7MB/s eta 0:00:01\r\u001b[K     |█████████████████████▏          | 870kB 32.7MB/s eta 0:00:01\r\u001b[K     |█████████████████████▌          | 880kB 32.7MB/s eta 0:00:01\r\u001b[K     |█████████████████████▊          | 890kB 32.7MB/s eta 0:00:01\r\u001b[K     |██████████████████████          | 901kB 32.7MB/s eta 0:00:01\r\u001b[K     |██████████████████████▏         | 911kB 32.7MB/s eta 0:00:01\r\u001b[K     |██████████████████████▌         | 921kB 32.7MB/s eta 0:00:01\r\u001b[K     |██████████████████████▊         | 931kB 32.7MB/s eta 0:00:01\r\u001b[K     |███████████████████████         | 942kB 32.7MB/s eta 0:00:01\r\u001b[K     |███████████████████████▏        | 952kB 32.7MB/s eta 0:00:01\r\u001b[K     |███████████████████████▌        | 962kB 32.7MB/s eta 0:00:01\r\u001b[K     |███████████████████████▊        | 972kB 32.7MB/s eta 0:00:01\r\u001b[K     |████████████████████████        | 983kB 32.7MB/s eta 0:00:01\r\u001b[K     |████████████████████████▏       | 993kB 32.7MB/s eta 0:00:01\r\u001b[K     |████████████████████████▌       | 1.0MB 32.7MB/s eta 0:00:01\r\u001b[K     |████████████████████████▊       | 1.0MB 32.7MB/s eta 0:00:01\r\u001b[K     |█████████████████████████       | 1.0MB 32.7MB/s eta 0:00:01\r\u001b[K     |█████████████████████████▏      | 1.0MB 32.7MB/s eta 0:00:01\r\u001b[K     |█████████████████████████▌      | 1.0MB 32.7MB/s eta 0:00:01\r\u001b[K     |█████████████████████████▊      | 1.1MB 32.7MB/s eta 0:00:01\r\u001b[K     |██████████████████████████      | 1.1MB 32.7MB/s eta 0:00:01\r\u001b[K     |██████████████████████████▏     | 1.1MB 32.7MB/s eta 0:00:01\r\u001b[K     |██████████████████████████▍     | 1.1MB 32.7MB/s eta 0:00:01\r\u001b[K     |██████████████████████████▊     | 1.1MB 32.7MB/s eta 0:00:01\r\u001b[K     |███████████████████████████     | 1.1MB 32.7MB/s eta 0:00:01\r\u001b[K     |███████████████████████████▏    | 1.1MB 32.7MB/s eta 0:00:01\r\u001b[K     |███████████████████████████▍    | 1.1MB 32.7MB/s eta 0:00:01\r\u001b[K     |███████████████████████████▊    | 1.1MB 32.7MB/s eta 0:00:01\r\u001b[K     |████████████████████████████    | 1.1MB 32.7MB/s eta 0:00:01\r\u001b[K     |████████████████████████████▏   | 1.2MB 32.7MB/s eta 0:00:01\r\u001b[K     |████████████████████████████▍   | 1.2MB 32.7MB/s eta 0:00:01\r\u001b[K     |████████████████████████████▊   | 1.2MB 32.7MB/s eta 0:00:01\r\u001b[K     |█████████████████████████████   | 1.2MB 32.7MB/s eta 0:00:01\r\u001b[K     |█████████████████████████████▏  | 1.2MB 32.7MB/s eta 0:00:01\r\u001b[K     |█████████████████████████████▍  | 1.2MB 32.7MB/s eta 0:00:01\r\u001b[K     |█████████████████████████████▊  | 1.2MB 32.7MB/s eta 0:00:01\r\u001b[K     |██████████████████████████████  | 1.2MB 32.7MB/s eta 0:00:01\r\u001b[K     |██████████████████████████████▏ | 1.2MB 32.7MB/s eta 0:00:01\r\u001b[K     |██████████████████████████████▍ | 1.2MB 32.7MB/s eta 0:00:01\r\u001b[K     |██████████████████████████████▊ | 1.3MB 32.7MB/s eta 0:00:01\r\u001b[K     |███████████████████████████████ | 1.3MB 32.7MB/s eta 0:00:01\r\u001b[K     |███████████████████████████████▏| 1.3MB 32.7MB/s eta 0:00:01\r\u001b[K     |███████████████████████████████▍| 1.3MB 32.7MB/s eta 0:00:01\r\u001b[K     |███████████████████████████████▊| 1.3MB 32.7MB/s eta 0:00:01\r\u001b[K     |████████████████████████████████| 1.3MB 32.7MB/s eta 0:00:01\r\u001b[K     |████████████████████████████████| 1.3MB 32.7MB/s \n",
            "\u001b[?25hCollecting markdown2\n",
            "  Downloading https://files.pythonhosted.org/packages/5d/be/3924cc1c0e12030b5225de2b4521f1dc729730773861475de26be64a0d2b/markdown2-2.4.0-py2.py3-none-any.whl\n",
            "Collecting analytics-python\n",
            "  Downloading https://files.pythonhosted.org/packages/30/81/2f447982f8d5dec5b56c10ca9ac53e5de2b2e9e2bdf7e091a05731f21379/analytics_python-1.3.1-py2.py3-none-any.whl\n",
            "Requirement already satisfied: matplotlib in /usr/local/lib/python3.7/dist-packages (from gradio) (3.2.2)\n",
            "Requirement already satisfied: Flask>=1.1.1 in /usr/local/lib/python3.7/dist-packages (from gradio) (1.1.4)\n",
            "Collecting pycryptodome\n",
            "\u001b[?25l  Downloading https://files.pythonhosted.org/packages/ad/16/9627ab0493894a11c68e46000dbcc82f578c8ff06bc2980dcd016aea9bd3/pycryptodome-3.10.1-cp35-abi3-manylinux2010_x86_64.whl (1.9MB)\n",
            "\u001b[K     |████████████████████████████████| 1.9MB 31.3MB/s \n",
            "\u001b[?25hCollecting Flask-Login\n",
            "  Downloading https://files.pythonhosted.org/packages/2b/83/ac5bf3279f969704fc1e63f050c50e10985e50fd340e6069ec7e09df5442/Flask_Login-0.5.0-py2.py3-none-any.whl\n",
            "Collecting Flask-Cors>=3.0.8\n",
            "  Downloading https://files.pythonhosted.org/packages/db/84/901e700de86604b1c4ef4b57110d4e947c218b9997adf5d38fa7da493bce/Flask_Cors-3.0.10-py2.py3-none-any.whl\n",
            "Requirement already satisfied: numpy in /usr/local/lib/python3.7/dist-packages (from gradio) (1.19.5)\n",
            "Collecting ffmpy\n",
            "  Downloading https://files.pythonhosted.org/packages/bf/e2/947df4b3d666bfdd2b0c6355d215c45d2d40f929451cb29a8a2995b29788/ffmpy-0.3.0.tar.gz\n",
            "Requirement already satisfied: requests in /usr/local/lib/python3.7/dist-packages (from gradio) (2.23.0)\n",
            "Requirement already satisfied: pandas in /usr/local/lib/python3.7/dist-packages (from gradio) (1.1.5)\n",
            "Requirement already satisfied: scipy in /usr/local/lib/python3.7/dist-packages (from gradio) (1.4.1)\n",
            "Collecting paramiko\n",
            "\u001b[?25l  Downloading https://files.pythonhosted.org/packages/95/19/124e9287b43e6ff3ebb9cdea3e5e8e88475a873c05ccdf8b7e20d2c4201e/paramiko-2.7.2-py2.py3-none-any.whl (206kB)\n",
            "\u001b[K     |████████████████████████████████| 215kB 53.8MB/s \n",
            "\u001b[?25hCollecting flask-cachebuster\n",
            "  Downloading https://files.pythonhosted.org/packages/74/47/f3e1fedfaad965c81c2f17234636d72f71450f1b4522ca26d2b7eb4a0a74/Flask-CacheBuster-1.0.0.tar.gz\n",
            "Requirement already satisfied: pillow in /usr/local/lib/python3.7/dist-packages (from gradio) (7.1.2)\n",
            "Requirement already satisfied: python-dateutil>2.1 in /usr/local/lib/python3.7/dist-packages (from analytics-python->gradio) (2.8.1)\n",
            "Collecting monotonic>=1.5\n",
            "  Downloading https://files.pythonhosted.org/packages/9a/67/7e8406a29b6c45be7af7740456f7f37025f0506ae2e05fb9009a53946860/monotonic-1.6-py2.py3-none-any.whl\n",
            "Collecting backoff==1.10.0\n",
            "  Downloading https://files.pythonhosted.org/packages/f0/32/c5dd4f4b0746e9ec05ace2a5045c1fc375ae67ee94355344ad6c7005fd87/backoff-1.10.0-py2.py3-none-any.whl\n",
            "Requirement already satisfied: six>=1.5 in /usr/local/lib/python3.7/dist-packages (from analytics-python->gradio) (1.15.0)\n",
            "Requirement already satisfied: cycler>=0.10 in /usr/local/lib/python3.7/dist-packages (from matplotlib->gradio) (0.10.0)\n",
            "Requirement already satisfied: pyparsing!=2.0.4,!=2.1.2,!=2.1.6,>=2.0.1 in /usr/local/lib/python3.7/dist-packages (from matplotlib->gradio) (2.4.7)\n",
            "Requirement already satisfied: kiwisolver>=1.0.1 in /usr/local/lib/python3.7/dist-packages (from matplotlib->gradio) (1.3.1)\n",
            "Requirement already satisfied: Jinja2<3.0,>=2.10.1 in /usr/local/lib/python3.7/dist-packages (from Flask>=1.1.1->gradio) (2.11.3)\n",
            "Requirement already satisfied: itsdangerous<2.0,>=0.24 in /usr/local/lib/python3.7/dist-packages (from Flask>=1.1.1->gradio) (1.1.0)\n",
            "Requirement already satisfied: Werkzeug<2.0,>=0.15 in /usr/local/lib/python3.7/dist-packages (from Flask>=1.1.1->gradio) (1.0.1)\n",
            "Requirement already satisfied: click<8.0,>=5.1 in /usr/local/lib/python3.7/dist-packages (from Flask>=1.1.1->gradio) (7.1.2)\n",
            "Requirement already satisfied: certifi>=2017.4.17 in /usr/local/lib/python3.7/dist-packages (from requests->gradio) (2020.12.5)\n",
            "Requirement already satisfied: idna<3,>=2.5 in /usr/local/lib/python3.7/dist-packages (from requests->gradio) (2.10)\n",
            "Requirement already satisfied: urllib3!=1.25.0,!=1.25.1,<1.26,>=1.21.1 in /usr/local/lib/python3.7/dist-packages (from requests->gradio) (1.24.3)\n",
            "Requirement already satisfied: chardet<4,>=3.0.2 in /usr/local/lib/python3.7/dist-packages (from requests->gradio) (3.0.4)\n",
            "Requirement already satisfied: pytz>=2017.2 in /usr/local/lib/python3.7/dist-packages (from pandas->gradio) (2018.9)\n",
            "Collecting bcrypt>=3.1.3\n",
            "\u001b[?25l  Downloading https://files.pythonhosted.org/packages/26/70/6d218afbe4c73538053c1016dd631e8f25fffc10cd01f5c272d7acf3c03d/bcrypt-3.2.0-cp36-abi3-manylinux2010_x86_64.whl (63kB)\n",
            "\u001b[K     |████████████████████████████████| 71kB 9.2MB/s \n",
            "\u001b[?25hCollecting pynacl>=1.0.1\n",
            "\u001b[?25l  Downloading https://files.pythonhosted.org/packages/9d/57/2f5e6226a674b2bcb6db531e8b383079b678df5b10cdaa610d6cf20d77ba/PyNaCl-1.4.0-cp35-abi3-manylinux1_x86_64.whl (961kB)\n",
            "\u001b[K     |████████████████████████████████| 962kB 33.3MB/s \n",
            "\u001b[?25hCollecting cryptography>=2.5\n",
            "\u001b[?25l  Downloading https://files.pythonhosted.org/packages/b2/26/7af637e6a7e87258b963f1731c5982fb31cd507f0d90d91836e446955d02/cryptography-3.4.7-cp36-abi3-manylinux2014_x86_64.whl (3.2MB)\n",
            "\u001b[K     |████████████████████████████████| 3.2MB 34.6MB/s \n",
            "\u001b[?25hRequirement already satisfied: MarkupSafe>=0.23 in /usr/local/lib/python3.7/dist-packages (from Jinja2<3.0,>=2.10.1->Flask>=1.1.1->gradio) (2.0.1)\n",
            "Requirement already satisfied: cffi>=1.1 in /usr/local/lib/python3.7/dist-packages (from bcrypt>=3.1.3->paramiko->gradio) (1.14.5)\n",
            "Requirement already satisfied: pycparser in /usr/local/lib/python3.7/dist-packages (from cffi>=1.1->bcrypt>=3.1.3->paramiko->gradio) (2.20)\n",
            "Building wheels for collected packages: ffmpy, flask-cachebuster\n",
            "  Building wheel for ffmpy (setup.py) ... \u001b[?25l\u001b[?25hdone\n",
            "  Created wheel for ffmpy: filename=ffmpy-0.3.0-cp37-none-any.whl size=4710 sha256=876444bf0460533ee5e8580fe43716515001a2dcc383be0e5995c29216c57871\n",
            "  Stored in directory: /root/.cache/pip/wheels/cc/ac/c4/bef572cb7e52bfca170046f567e64858632daf77e0f34e5a74\n",
            "  Building wheel for flask-cachebuster (setup.py) ... \u001b[?25l\u001b[?25hdone\n",
            "  Created wheel for flask-cachebuster: filename=Flask_CacheBuster-1.0.0-cp37-none-any.whl size=3372 sha256=a075b7cd90f2932432c5347b1a242260cf8764b8b6687813970436457a07ebe1\n",
            "  Stored in directory: /root/.cache/pip/wheels/9f/fc/a7/ab5712c3ace9a8f97276465cc2937316ab8063c1fea488ea77\n",
            "Successfully built ffmpy flask-cachebuster\n",
            "Installing collected packages: markdown2, monotonic, backoff, analytics-python, pycryptodome, Flask-Login, Flask-Cors, ffmpy, bcrypt, pynacl, cryptography, paramiko, flask-cachebuster, gradio\n",
            "Successfully installed Flask-Cors-3.0.10 Flask-Login-0.5.0 analytics-python-1.3.1 backoff-1.10.0 bcrypt-3.2.0 cryptography-3.4.7 ffmpy-0.3.0 flask-cachebuster-1.0.0 gradio-2.0.0 markdown2-2.4.0 monotonic-1.6 paramiko-2.7.2 pycryptodome-3.10.1 pynacl-1.4.0\n"
          ],
          "name": "stdout"
        }
      ]
    },
    {
      "cell_type": "code",
      "metadata": {
        "id": "Y_6icOjJSIs9"
      },
      "source": [
        "from tensorflow.keras.models import load_model\n",
        "from google.colab import drive"
      ],
      "execution_count": 3,
      "outputs": []
    },
    {
      "cell_type": "code",
      "metadata": {
        "colab": {
          "base_uri": "https://localhost:8080/"
        },
        "id": "OcnGzr_DSPyE",
        "outputId": "6c0de085-ca98-413e-8e60-4f8e85ab8002"
      },
      "source": [
        "drive.mount('/content/drive')"
      ],
      "execution_count": 4,
      "outputs": [
        {
          "output_type": "stream",
          "text": [
            "Mounted at /content/drive\n"
          ],
          "name": "stdout"
        }
      ]
    },
    {
      "cell_type": "code",
      "metadata": {
        "colab": {
          "base_uri": "https://localhost:8080/"
        },
        "id": "SUalRdz7SYQP",
        "outputId": "5afa559e-20e8-4bbd-dbb1-69448a3dbc36"
      },
      "source": [
        "%cd '/content/drive/My Drive/Colab Notebooks'"
      ],
      "execution_count": 5,
      "outputs": [
        {
          "output_type": "stream",
          "text": [
            "/content/drive/My Drive/Colab Notebooks\n"
          ],
          "name": "stdout"
        }
      ]
    },
    {
      "cell_type": "code",
      "metadata": {
        "id": "QdHvGHztSggn"
      },
      "source": [
        "model = load_model('my_model')"
      ],
      "execution_count": 6,
      "outputs": []
    },
    {
      "cell_type": "code",
      "metadata": {
        "id": "LKNI-gXCSkAo"
      },
      "source": [
        "import gradio as gr"
      ],
      "execution_count": 7,
      "outputs": []
    },
    {
      "cell_type": "code",
      "metadata": {
        "id": "qU1UDIZpSrUl"
      },
      "source": [
        "def recognize_digit(img):\n",
        "  img = img.reshape(1,784)\n",
        "  prediction = model.predict(img).flatten()\n",
        "  labels = list('0123456789')\n",
        "  return {labels[i]: float(prediction[i]) for i in range(10)}"
      ],
      "execution_count": 8,
      "outputs": []
    },
    {
      "cell_type": "code",
      "metadata": {
        "colab": {
          "base_uri": "https://localhost:8080/",
          "height": 664
        },
        "id": "VD2gbpSUSt77",
        "outputId": "21e71470-1191-4f6e-c1af-24343be6230f"
      },
      "source": [
        "gr.Interface(fn=recognize_digit, inputs=\"sketchpad\", outputs=\"label\").launch()"
      ],
      "execution_count": 9,
      "outputs": [
        {
          "output_type": "stream",
          "text": [
            "Colab notebook detected. To show errors in colab notebook, set `debug=True` in `launch()`\n",
            "This share link will expire in 24 hours. If you need a permanent link, visit: https://gradio.app/introducing-hosted (NEW!)\n",
            "Running on External URL: https://10435.gradio.app\n",
            "Interface loading below...\n"
          ],
          "name": "stdout"
        },
        {
          "output_type": "display_data",
          "data": {
            "text/html": [
              "\n",
              "        <iframe\n",
              "            width=\"900\"\n",
              "            height=\"500\"\n",
              "            src=\"https://10435.gradio.app\"\n",
              "            frameborder=\"0\"\n",
              "            allowfullscreen\n",
              "        ></iframe>\n",
              "        "
            ],
            "text/plain": [
              "<IPython.lib.display.IFrame at 0x7fc76049e410>"
            ]
          },
          "metadata": {
            "tags": []
          }
        },
        {
          "output_type": "execute_result",
          "data": {
            "text/plain": [
              "(<Flask 'gradio.networking'>,\n",
              " 'http://127.0.0.1:7860/',\n",
              " 'https://10435.gradio.app')"
            ]
          },
          "metadata": {
            "tags": []
          },
          "execution_count": 9
        }
      ]
    },
    {
      "cell_type": "code",
      "metadata": {
        "id": "8kbNGBdSSw2V"
      },
      "source": [
        ""
      ],
      "execution_count": null,
      "outputs": []
    }
  ]
}