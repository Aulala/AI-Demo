{
  "nbformat": 4,
  "nbformat_minor": 0,
  "metadata": {
    "colab": {
      "private_outputs": true,
      "provenance": [],
      "gpuType": "T4",
      "authorship_tag": "ABX9TyOQJKBXSs2KMBrP6Ab65jBj",
      "include_colab_link": true
    },
    "kernelspec": {
      "name": "python3",
      "display_name": "Python 3"
    },
    "language_info": {
      "name": "python"
    },
    "accelerator": "GPU"
  },
  "cells": [
    {
      "cell_type": "markdown",
      "metadata": {
        "id": "view-in-github",
        "colab_type": "text"
      },
      "source": [
        "<a href=\"https://colab.research.google.com/github/yenlung/AI-Demo/blob/master/Dia_%E6%96%87%E5%AD%97%E8%BD%89%E8%AA%9E%E9%9F%B3.ipynb\" target=\"_parent\"><img src=\"https://colab.research.google.com/assets/colab-badge.svg\" alt=\"Open In Colab\"/></a>"
      ]
    },
    {
      "cell_type": "markdown",
      "source": [
        "### 1. 安裝 Dia\n",
        "\n",
        "Dia 是一個只有 1.6B 文字轉語音的模型, 是由 Nari Labs (Nari, 나리, 是百合的意思), 特點是可以產生很自然的 (英文) 對話。可以參考[專案的 GitHub](https://github.com/nari-labs/dia)。\n",
        "\n",
        "首先我們來安裝 Dia。"
      ],
      "metadata": {
        "id": "IhSiZJWVeTMi"
      }
    },
    {
      "cell_type": "code",
      "execution_count": null,
      "metadata": {
        "id": "LDOnwk-pXe5-"
      },
      "outputs": [],
      "source": [
        "!pip install git+https://github.com/nari-labs/dia.git"
      ]
    },
    {
      "cell_type": "markdown",
      "source": [
        "引入必要的套件。"
      ],
      "metadata": {
        "id": "upjGz1n-g4qF"
      }
    },
    {
      "cell_type": "code",
      "source": [
        "import soundfile as sf\n",
        "from IPython.display import Audio\n",
        "from dia.model import Dia"
      ],
      "metadata": {
        "id": "fZhm7S_oXill"
      },
      "execution_count": null,
      "outputs": []
    },
    {
      "cell_type": "markdown",
      "source": [
        "讀入模型, 目前就是一種。"
      ],
      "metadata": {
        "id": "AEwzkqocg8_N"
      }
    },
    {
      "cell_type": "code",
      "source": [
        "model = Dia.from_pretrained(\"nari-labs/Dia-1.6B\")"
      ],
      "metadata": {
        "id": "bYcDW2nNYWQw"
      },
      "execution_count": null,
      "outputs": []
    },
    {
      "cell_type": "markdown",
      "source": [
        "### 2. 使用 Dia\n",
        "\n",
        "我們先建立需要的文字, 你可以使用不同的修飾詞:\n",
        "\n",
        "    (laughs), (clears throat), (sighs), (gasps), (coughs), (singing), (sings),\n",
        "    (mumbles), (beep), (groans), (sniffs), (claps), (screams), (inhales),\n",
        "    (exhales), (applause), (burps), (humming), (sneezes), (chuckle), (whistles)"
      ],
      "metadata": {
        "id": "RYrs_-UZhCOF"
      }
    },
    {
      "cell_type": "code",
      "source": [
        "text = \"\"\"\n",
        "[S1] Diveai is a brand-new AI education fan page and channel.\n",
        "[S2] Lots of AI insights you want to know about.\n",
        "[S1] I heard the name comes from the K-POP girl group IVE. (laughs)\n",
        "[S2] (clears throat) Let’s not get into that—welcome everyone to like and follow!\n",
        "\"\"\""
      ],
      "metadata": {
        "id": "y0St4AGOYIBY"
      },
      "execution_count": null,
      "outputs": []
    },
    {
      "cell_type": "code",
      "source": [
        "output = model.generate(text)"
      ],
      "metadata": {
        "id": "-R6aLSC6YPbd"
      },
      "execution_count": null,
      "outputs": []
    },
    {
      "cell_type": "markdown",
      "source": [
        "儲存結果, 並播放對話。"
      ],
      "metadata": {
        "id": "89v5MoUohpjK"
      }
    },
    {
      "cell_type": "code",
      "source": [
        "sf.write(\"simple.mp3\", output, 44100)"
      ],
      "metadata": {
        "id": "BJDCp7DvYSXm"
      },
      "execution_count": null,
      "outputs": []
    },
    {
      "cell_type": "code",
      "source": [
        "Audio('simple.mp3')"
      ],
      "metadata": {
        "id": "S9cC1SjKZxIX"
      },
      "execution_count": null,
      "outputs": []
    }
  ]
}