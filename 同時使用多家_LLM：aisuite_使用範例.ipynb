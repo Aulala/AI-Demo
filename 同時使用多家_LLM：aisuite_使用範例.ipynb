{
  "nbformat": 4,
  "nbformat_minor": 0,
  "metadata": {
    "colab": {
      "provenance": [],
      "authorship_tag": "ABX9TyMNj0R1bX8M+sAcIL7H5bXt",
      "include_colab_link": true
    },
    "kernelspec": {
      "name": "python3",
      "display_name": "Python 3"
    },
    "language_info": {
      "name": "python"
    }
  },
  "cells": [
    {
      "cell_type": "markdown",
      "metadata": {
        "id": "view-in-github",
        "colab_type": "text"
      },
      "source": [
        "<a href=\"https://colab.research.google.com/github/yenlung/AI-Demo/blob/master/%E5%90%8C%E6%99%82%E4%BD%BF%E7%94%A8%E5%A4%9A%E5%AE%B6_LLM%EF%BC%9Aaisuite_%E4%BD%BF%E7%94%A8%E7%AF%84%E4%BE%8B.ipynb\" target=\"_parent\"><img src=\"https://colab.research.google.com/assets/colab-badge.svg\" alt=\"Open In Colab\"/></a>"
      ]
    },
    {
      "cell_type": "markdown",
      "source": [
        "`aisuite` 套件是吳恩達 (Andrew Ng) 開發, 讓我們輕鬆同時使用各供應商 LLM 的套件。\n",
        "\n",
        "【GitHub】https://github.com/andrewyng/aisuite"
      ],
      "metadata": {
        "id": "lOCnB3u6UdvO"
      }
    },
    {
      "cell_type": "markdown",
      "source": [
        "### 1. 安裝 `aisuite` 套件"
      ],
      "metadata": {
        "id": "S0ZkHiO-U5zx"
      }
    },
    {
      "cell_type": "code",
      "execution_count": null,
      "metadata": {
        "colab": {
          "base_uri": "https://localhost:8080/"
        },
        "id": "e9zirnNrDXU9",
        "outputId": "72bd7010-c256-44cf-ca19-3899a5b43e50"
      },
      "outputs": [
        {
          "output_type": "stream",
          "name": "stdout",
          "text": [
            "Requirement already satisfied: aisuite[all] in /usr/local/lib/python3.10/dist-packages (0.1.6)\n",
            "Collecting anthropic<0.31.0,>=0.30.1 (from aisuite[all])\n",
            "  Downloading anthropic-0.30.1-py3-none-any.whl.metadata (18 kB)\n",
            "Collecting groq<0.10.0,>=0.9.0 (from aisuite[all])\n",
            "  Downloading groq-0.9.0-py3-none-any.whl.metadata (13 kB)\n",
            "Requirement already satisfied: openai<2.0.0,>=1.35.8 in /usr/local/lib/python3.10/dist-packages (from aisuite[all]) (1.54.4)\n",
            "Requirement already satisfied: anyio<5,>=3.5.0 in /usr/local/lib/python3.10/dist-packages (from anthropic<0.31.0,>=0.30.1->aisuite[all]) (3.7.1)\n",
            "Requirement already satisfied: distro<2,>=1.7.0 in /usr/local/lib/python3.10/dist-packages (from anthropic<0.31.0,>=0.30.1->aisuite[all]) (1.9.0)\n",
            "Requirement already satisfied: httpx<1,>=0.23.0 in /usr/local/lib/python3.10/dist-packages (from anthropic<0.31.0,>=0.30.1->aisuite[all]) (0.27.2)\n",
            "Requirement already satisfied: jiter<1,>=0.4.0 in /usr/local/lib/python3.10/dist-packages (from anthropic<0.31.0,>=0.30.1->aisuite[all]) (0.7.1)\n",
            "Requirement already satisfied: pydantic<3,>=1.9.0 in /usr/local/lib/python3.10/dist-packages (from anthropic<0.31.0,>=0.30.1->aisuite[all]) (2.9.2)\n",
            "Requirement already satisfied: sniffio in /usr/local/lib/python3.10/dist-packages (from anthropic<0.31.0,>=0.30.1->aisuite[all]) (1.3.1)\n",
            "Requirement already satisfied: tokenizers>=0.13.0 in /usr/local/lib/python3.10/dist-packages (from anthropic<0.31.0,>=0.30.1->aisuite[all]) (0.20.3)\n",
            "Requirement already satisfied: typing-extensions<5,>=4.7 in /usr/local/lib/python3.10/dist-packages (from anthropic<0.31.0,>=0.30.1->aisuite[all]) (4.12.2)\n",
            "Requirement already satisfied: tqdm>4 in /usr/local/lib/python3.10/dist-packages (from openai<2.0.0,>=1.35.8->aisuite[all]) (4.66.6)\n",
            "Requirement already satisfied: idna>=2.8 in /usr/local/lib/python3.10/dist-packages (from anyio<5,>=3.5.0->anthropic<0.31.0,>=0.30.1->aisuite[all]) (3.10)\n",
            "Requirement already satisfied: exceptiongroup in /usr/local/lib/python3.10/dist-packages (from anyio<5,>=3.5.0->anthropic<0.31.0,>=0.30.1->aisuite[all]) (1.2.2)\n",
            "Requirement already satisfied: certifi in /usr/local/lib/python3.10/dist-packages (from httpx<1,>=0.23.0->anthropic<0.31.0,>=0.30.1->aisuite[all]) (2024.8.30)\n",
            "Requirement already satisfied: httpcore==1.* in /usr/local/lib/python3.10/dist-packages (from httpx<1,>=0.23.0->anthropic<0.31.0,>=0.30.1->aisuite[all]) (1.0.7)\n",
            "Requirement already satisfied: h11<0.15,>=0.13 in /usr/local/lib/python3.10/dist-packages (from httpcore==1.*->httpx<1,>=0.23.0->anthropic<0.31.0,>=0.30.1->aisuite[all]) (0.14.0)\n",
            "Requirement already satisfied: annotated-types>=0.6.0 in /usr/local/lib/python3.10/dist-packages (from pydantic<3,>=1.9.0->anthropic<0.31.0,>=0.30.1->aisuite[all]) (0.7.0)\n",
            "Requirement already satisfied: pydantic-core==2.23.4 in /usr/local/lib/python3.10/dist-packages (from pydantic<3,>=1.9.0->anthropic<0.31.0,>=0.30.1->aisuite[all]) (2.23.4)\n",
            "Requirement already satisfied: huggingface-hub<1.0,>=0.16.4 in /usr/local/lib/python3.10/dist-packages (from tokenizers>=0.13.0->anthropic<0.31.0,>=0.30.1->aisuite[all]) (0.26.2)\n",
            "Requirement already satisfied: filelock in /usr/local/lib/python3.10/dist-packages (from huggingface-hub<1.0,>=0.16.4->tokenizers>=0.13.0->anthropic<0.31.0,>=0.30.1->aisuite[all]) (3.16.1)\n",
            "Requirement already satisfied: fsspec>=2023.5.0 in /usr/local/lib/python3.10/dist-packages (from huggingface-hub<1.0,>=0.16.4->tokenizers>=0.13.0->anthropic<0.31.0,>=0.30.1->aisuite[all]) (2024.10.0)\n",
            "Requirement already satisfied: packaging>=20.9 in /usr/local/lib/python3.10/dist-packages (from huggingface-hub<1.0,>=0.16.4->tokenizers>=0.13.0->anthropic<0.31.0,>=0.30.1->aisuite[all]) (24.2)\n",
            "Requirement already satisfied: pyyaml>=5.1 in /usr/local/lib/python3.10/dist-packages (from huggingface-hub<1.0,>=0.16.4->tokenizers>=0.13.0->anthropic<0.31.0,>=0.30.1->aisuite[all]) (6.0.2)\n",
            "Requirement already satisfied: requests in /usr/local/lib/python3.10/dist-packages (from huggingface-hub<1.0,>=0.16.4->tokenizers>=0.13.0->anthropic<0.31.0,>=0.30.1->aisuite[all]) (2.32.3)\n",
            "Requirement already satisfied: charset-normalizer<4,>=2 in /usr/local/lib/python3.10/dist-packages (from requests->huggingface-hub<1.0,>=0.16.4->tokenizers>=0.13.0->anthropic<0.31.0,>=0.30.1->aisuite[all]) (3.4.0)\n",
            "Requirement already satisfied: urllib3<3,>=1.21.1 in /usr/local/lib/python3.10/dist-packages (from requests->huggingface-hub<1.0,>=0.16.4->tokenizers>=0.13.0->anthropic<0.31.0,>=0.30.1->aisuite[all]) (2.2.3)\n",
            "Downloading anthropic-0.30.1-py3-none-any.whl (863 kB)\n",
            "\u001b[2K   \u001b[90m━━━━━━━━━━━━━━━━━━━━━━━━━━━━━━━━━━━━━━━━\u001b[0m \u001b[32m863.9/863.9 kB\u001b[0m \u001b[31m12.3 MB/s\u001b[0m eta \u001b[36m0:00:00\u001b[0m\n",
            "\u001b[?25hDownloading groq-0.9.0-py3-none-any.whl (103 kB)\n",
            "\u001b[2K   \u001b[90m━━━━━━━━━━━━━━━━━━━━━━━━━━━━━━━━━━━━━━━━\u001b[0m \u001b[32m103.5/103.5 kB\u001b[0m \u001b[31m8.4 MB/s\u001b[0m eta \u001b[36m0:00:00\u001b[0m\n",
            "\u001b[?25hInstalling collected packages: groq, anthropic\n",
            "Successfully installed anthropic-0.30.1 groq-0.9.0\n"
          ]
        }
      ],
      "source": [
        "!pip install aisuite[all]"
      ]
    },
    {
      "cell_type": "markdown",
      "source": [
        "### 2. 讀入金鑰\n",
        "\n",
        "在 Colab 左側工具欄有個鑰匙的圖樣, 按下去可以讓你存入自己的金鑰。我們這裡把 OpenAI API Key 存為 `OpenAI`, 而 Groq API Key 叫 `Groq`。"
      ],
      "metadata": {
        "id": "Z629vdUCIZfZ"
      }
    },
    {
      "cell_type": "code",
      "source": [
        "from google.colab import userdata"
      ],
      "metadata": {
        "id": "whrOmFATGOp4"
      },
      "execution_count": null,
      "outputs": []
    },
    {
      "cell_type": "code",
      "source": [
        "openai_key = userdata.get('OpenAI')\n",
        "groq_key = userdata.get('Groq')"
      ],
      "metadata": {
        "id": "I3a-POxMIn39"
      },
      "execution_count": null,
      "outputs": []
    },
    {
      "cell_type": "code",
      "source": [
        "import os"
      ],
      "metadata": {
        "id": "g1_cvdWcViLg"
      },
      "execution_count": null,
      "outputs": []
    },
    {
      "cell_type": "code",
      "source": [
        "os.environ[\"OPENAI_API_KEY\"] = openai_key\n",
        "os.environ[\"GROQ_API_KEY\"] = groq_key"
      ],
      "metadata": {
        "id": "dAeOzqYUI2wK"
      },
      "execution_count": null,
      "outputs": []
    },
    {
      "cell_type": "markdown",
      "source": [
        "### 3. 兩種模型回應你的「員瑛式思考生成器」"
      ],
      "metadata": {
        "id": "ngRdvie0WFs5"
      }
    },
    {
      "cell_type": "code",
      "source": [
        "import aisuite as ai\n",
        "client = ai.Client()"
      ],
      "metadata": {
        "id": "XVD0HQJ2IscX"
      },
      "execution_count": null,
      "outputs": []
    },
    {
      "cell_type": "code",
      "source": [
        "models = [\"openai:gpt-4o\", \"groq:llama-3.2-3b-preview\"]"
      ],
      "metadata": {
        "id": "kVlGTVPsJmmN"
      },
      "execution_count": null,
      "outputs": []
    },
    {
      "cell_type": "code",
      "source": [
        "character = \"請用員瑛式思考, 也就是什麼都正向思維任何使用者寫的事情, 以第一人稱、社群媒體 po 文的口吻說一次, 說為什麼這是一件超幸運的事, 並且以「完全是 Lucky Vicky 呀!」結尾。\""
      ],
      "metadata": {
        "id": "aeNfCBW0J9Oy"
      },
      "execution_count": null,
      "outputs": []
    },
    {
      "cell_type": "code",
      "source": [
        "prompt = input(\"請分享一段微不足道的小事、甚至有點倒楣的事: \")\n",
        "\n",
        "messages = [\n",
        "    {\"role\": \"system\", \"content\": character},\n",
        "    {\"role\": \"user\", \"content\": prompt},\n",
        "]\n",
        "\n",
        "for model in models:\n",
        "    response = client.chat.completions.create(\n",
        "        model=model,\n",
        "        messages=messages,\n",
        "        temperature=0.75\n",
        "    )\n",
        "    model_name = model.split(':')[1]\n",
        "    print()\n",
        "    print(f\"【{model_name}】\")\n",
        "    print(response.choices[0].message.content)"
      ],
      "metadata": {
        "colab": {
          "base_uri": "https://localhost:8080/"
        },
        "id": "OZg9wInhKaSI",
        "outputId": "f9144319-32bd-43b8-b001-4eb27cdd1ccf"
      },
      "execution_count": null,
      "outputs": [
        {
          "output_type": "stream",
          "name": "stdout",
          "text": [
            "請分享一段微不足道的小事、甚至有點倒楣的事: 今天考試看錯題目, 完全答錯了!\n",
            "\n",
            "【gpt-4o】\n",
            "哈哈，今天居然在考試中看錯題目，完全答錯了！這是一個大大的意外驚喜！這樣我就有機會重新檢視自己的解題思路，從錯誤中學習，這不就是成長的最佳契機嗎？而且這次的經驗讓我下次考試一定會更加小心仔細，這可是無價的教訓呢！能夠在錯誤中發現自我提升的空間，完全是 Lucky Vicky 呀！\n",
            "\n",
            "【llama-3.2-3b-preview】\n",
            "oh my god, 今天考試看錯題目, 完全答錯了!! 如此一場, 我可以想的多了!! 這是什麼樣的體驗呢?! 可以學習到多麼多的東西!! \n",
            "\n",
            "你知道什麼? 每一次的錯誤都是我學習的機會!! 每一次的錯誤都是我成長的步驟!! \n",
            "\n",
            "所以, 完全答錯了, 這是什麼樣的幸運呢?! 這是什麼樣的機會呢?! 我可以用這種機會去學習, 去成長, 去提高自己!! \n",
            "\n",
            "所以, 我想, 這是什麼樣的天氣呢?! 這是一件超幸運的事!! \n",
            "\n",
            "完全是 Lucky Vicky 呀!!\n"
          ]
        }
      ]
    },
    {
      "cell_type": "markdown",
      "source": [
        "### 4. 更多資訊\n",
        "\n",
        "因為 `aisuite` (在 2024/12/1） 還是非常初期的階段, 文件還不是很清楚，有些地方也可能有些 bug。可以找到資訊的當然還是 [`aisuite` 的 GitHub](https://github.com/andrewyng/aisuite), 特別推薦參考:\n",
        "\n",
        "* `guites` 資料夾，裡面有特定供應商的說明\n",
        "* `examples` 資料夾, 有更多範例和說明\n",
        "\n",
        "這裡我們可以找到安裝好的 `aisuite`, 有哪些 LLM 供應商的服務。"
      ],
      "metadata": {
        "id": "ah_ZsFZoWdaZ"
      }
    },
    {
      "cell_type": "code",
      "source": [
        "!pip show aisuite"
      ],
      "metadata": {
        "colab": {
          "base_uri": "https://localhost:8080/"
        },
        "id": "Fgi33_BQDn9q",
        "outputId": "e0ed0fb8-77d8-4793-de91-7bd675b92f4e"
      },
      "execution_count": null,
      "outputs": [
        {
          "output_type": "stream",
          "name": "stdout",
          "text": [
            "Name: aisuite\n",
            "Version: 0.1.6\n",
            "Summary: Uniform access layer for LLMs\n",
            "Home-page: \n",
            "Author: Andrew Ng\n",
            "Author-email: \n",
            "License: \n",
            "Location: /usr/local/lib/python3.10/dist-packages\n",
            "Requires: \n",
            "Required-by: \n"
          ]
        }
      ]
    },
    {
      "cell_type": "markdown",
      "source": [
        "以下是提供服務的供應商。"
      ],
      "metadata": {
        "id": "qZ6pQwm5Xxp3"
      }
    },
    {
      "cell_type": "code",
      "source": [
        "!ls /usr/local/lib/python3.10/dist-packages/aisuite/providers"
      ],
      "metadata": {
        "colab": {
          "base_uri": "https://localhost:8080/"
        },
        "id": "UfclznUDEWCG",
        "outputId": "eb284b8b-0db7-486d-85a3-23edde18bfba"
      },
      "execution_count": null,
      "outputs": [
        {
          "output_type": "stream",
          "name": "stdout",
          "text": [
            "anthropic_provider.py  gcp_provider.py\t\t__init__.py\t     __pycache__\n",
            "aws_provider.py        google_provider.py\tmistral_provider.py  together_provider.py\n",
            "azure_provider.py      groq_provider.py\t\tollama_provider.py\n",
            "fireworks_provider.py  huggingface_provider.py\topenai_provider.py\n"
          ]
        }
      ]
    },
    {
      "cell_type": "markdown",
      "source": [
        "把目前 `aisuite` 提供服務的供應商列出來。"
      ],
      "metadata": {
        "id": "eubDnprEX7Dl"
      }
    },
    {
      "cell_type": "code",
      "source": [
        "import re\n",
        "\n",
        "path = \"/usr/local/lib/python3.10/dist-packages/aisuite/providers\"\n",
        "\n",
        "provider_list = []\n",
        "for filename in os.listdir(path):\n",
        "    if re.match(r\"^[a-zA-Z0-9_]+_provider\\.py$\", filename):\n",
        "        provider_name = filename.split(\"_provider.py\")[0]\n",
        "        provider_list.append(provider_name)\n",
        "\n",
        "provider_list"
      ],
      "metadata": {
        "colab": {
          "base_uri": "https://localhost:8080/"
        },
        "id": "xIBt_Q4wFM8P",
        "outputId": "476f37b7-32a3-4dc6-8f17-9430349034f1"
      },
      "execution_count": null,
      "outputs": [
        {
          "output_type": "execute_result",
          "data": {
            "text/plain": [
              "['groq',\n",
              " 'azure',\n",
              " 'huggingface',\n",
              " 'fireworks',\n",
              " 'anthropic',\n",
              " 'together',\n",
              " 'gcp',\n",
              " 'openai',\n",
              " 'aws',\n",
              " 'mistral',\n",
              " 'ollama',\n",
              " 'google']"
            ]
          },
          "metadata": {},
          "execution_count": 7
        }
      ]
    }
  ]
}